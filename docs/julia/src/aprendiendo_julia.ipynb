{
 "cells": [
  {
   "cell_type": "markdown",
   "metadata": {},
   "source": [
    "# Aprendiendo Julia"
   ]
  },
  {
   "cell_type": "markdown",
   "metadata": {},
   "source": [
    "Este libro es para aprender julia.\n",
    "Primero aprendermos a introducir datos de forma manual."
   ]
  },
  {
   "cell_type": "code",
   "execution_count": 1,
   "metadata": {},
   "outputs": [
    {
     "name": "stdout",
     "output_type": "stream",
     "text": [
      "\u001b[1m6×3 DataFrame\u001b[0m\n",
      "\u001b[1m Row \u001b[0m│\u001b[1m nombre   \u001b[0m\u001b[1m grupo  \u001b[0m\u001b[1m puntaje \u001b[0m\n",
      "\u001b[1m     \u001b[0m│\u001b[90m String   \u001b[0m\u001b[90m String \u001b[0m\u001b[90m Int64   \u001b[0m\n",
      "─────┼───────────────────────────\n",
      "   1 │ ANGELICA  A            10\n",
      "   2 │ BRENDA    A             9\n",
      "   3 │ LILIANA   B             8\n",
      "   4 │ MARCO     B             8\n",
      "   5 │ FABIAN    C             9\n",
      "   6 │ MAURICIO  C             7"
     ]
    }
   ],
   "source": [
    "using DataFrames\n",
    "datos = DataFrame(nombre =[\"ANGELICA\",\"BRENDA\",\"LILIANA\",\"MARCO\",\"FABIAN\",\"MAURICIO\"],\n",
    "    grupo = [\"A\",\"A\",\"B\",\"B\",\"C\",\"C\"],\n",
    "    puntaje = [10,9,8,8,9,7]);\n",
    "print(datos)"
   ]
  },
  {
   "cell_type": "markdown",
   "metadata": {},
   "source": [
    "Vamos a conocer un poco de las propiedades de la base"
   ]
  },
  {
   "cell_type": "code",
   "execution_count": 46,
   "metadata": {},
   "outputs": [
    {
     "data": {
      "text/plain": [
       "\"6×3 DataFrame\""
      ]
     },
     "metadata": {},
     "output_type": "display_data"
    }
   ],
   "source": [
    "summary(datos)"
   ]
  },
  {
   "cell_type": "markdown",
   "metadata": {},
   "source": [
    "## Filtrado de datos"
   ]
  },
  {
   "cell_type": "markdown",
   "metadata": {},
   "source": [
    "Para hacer un filtrado de datos se usa lo siguiente:"
   ]
  },
  {
   "cell_type": "code",
   "execution_count": 48,
   "metadata": {},
   "outputs": [
    {
     "name": "stdout",
     "output_type": "stream",
     "text": [
      "\u001b[1m2×3 DataFrame\u001b[0m\n",
      "\u001b[1m Row \u001b[0m│\u001b[1m nombre   \u001b[0m\u001b[1m grupo  \u001b[0m\u001b[1m puntaje \u001b[0m\n",
      "\u001b[1m     \u001b[0m│\u001b[90m String   \u001b[0m\u001b[90m String \u001b[0m\u001b[90m Int64   \u001b[0m\n",
      "─────┼───────────────────────────\n",
      "   1 │ ANGELICA  A            10\n",
      "   2 │ BRENDA    A             9"
     ]
    }
   ],
   "source": [
    "datos2 = datos[datos.grupo .== \"A\",:]\n",
    "print(datos2)"
   ]
  },
  {
   "cell_type": "markdown",
   "metadata": {},
   "source": [
    "Para elegir más de un valor"
   ]
  },
  {
   "cell_type": "code",
   "execution_count": 39,
   "metadata": {},
   "outputs": [
    {
     "name": "stdout",
     "output_type": "stream",
     "text": [
      "\u001b[1m4×3 DataFrame\u001b[0m\n",
      "\u001b[1m Row \u001b[0m│\u001b[1m nombre   \u001b[0m\u001b[1m grupo  \u001b[0m\u001b[1m puntaje \u001b[0m\n",
      "\u001b[1m     \u001b[0m│\u001b[90m String   \u001b[0m\u001b[90m String \u001b[0m\u001b[90m Int64   \u001b[0m\n",
      "─────┼───────────────────────────\n",
      "   1 │ ANGELICA  A            10\n",
      "   2 │ BRENDA    A             9\n",
      "   3 │ FABIAN    C             9\n",
      "   4 │ MAURICIO  C             7"
     ]
    }
   ],
   "source": [
    "datos2 = datos[in([\"A\",\"C\"]).(datos.grupo) ,:]\n",
    "print(datos2)"
   ]
  },
  {
   "cell_type": "markdown",
   "metadata": {},
   "source": [
    "## Agregar nuevas variables"
   ]
  },
  {
   "cell_type": "markdown",
   "metadata": {},
   "source": [
    "Se describe como agregar nuevas variables"
   ]
  },
  {
   "cell_type": "code",
   "execution_count": 39,
   "metadata": {},
   "outputs": [
    {
     "name": "stdout",
     "output_type": "stream",
     "text": [
      "\u001b[1m6×4 DataFrame\u001b[0m\n",
      "\u001b[1m Row \u001b[0m│\u001b[1m nombre   \u001b[0m\u001b[1m grupo  \u001b[0m\u001b[1m puntaje \u001b[0m\u001b[1m nota       \u001b[0m\n",
      "\u001b[1m     \u001b[0m│\u001b[90m String   \u001b[0m\u001b[90m String \u001b[0m\u001b[90m Int64   \u001b[0m\u001b[90m String     \u001b[0m\n",
      "─────┼───────────────────────────────────────\n",
      "   1 │ ANGELICA  A            10  Excelente\n",
      "   2 │ BRENDA    A             9  Excelente\n",
      "   3 │ LILIANA   B             8  Suficiente\n",
      "   4 │ MARCO     B             8  Suficiente\n",
      "   5 │ FABIAN    C             9  Excelente\n",
      "   6 │ MAURICIO  C             7  Suficiente"
     ]
    }
   ],
   "source": [
    "using DataFrames\n",
    "datos.nota = ifelse.(datos.puntaje .< 9, \"Suficiente\", \"Excelente\")\n",
    "print(datos)"
   ]
  },
  {
   "cell_type": "markdown",
   "metadata": {},
   "source": [
    "Otra forma es usando la función `transform!`."
   ]
  },
  {
   "cell_type": "code",
   "execution_count": 39,
   "metadata": {},
   "outputs": [
    {
     "name": "stdout",
     "output_type": "stream",
     "text": [
      "\u001b[1m6×5 DataFrame\u001b[0m\n",
      "\u001b[1m Row \u001b[0m│\u001b[1m nombre   \u001b[0m\u001b[1m grupo  \u001b[0m\u001b[1m puntaje \u001b[0m\u001b[1m puntaje_function                  \u001b[0m\u001b[1m nota       \u001b[0m\n",
      "\u001b[1m     \u001b[0m│\u001b[90m String   \u001b[0m\u001b[90m String \u001b[0m\u001b[90m Int64   \u001b[0m\u001b[90m Pair…                             \u001b[0m\u001b[90m String     \u001b[0m\n",
      "─────┼──────────────────────────────────────────────────────────────────────────\n",
      "   1 │ ANGELICA  A            10  [\"Excelente\", \"Excelente\", \"Sufi…  Excelente\n",
      "   2 │ BRENDA    A             9  [\"Excelente\", \"Excelente\", \"Sufi…  Excelente\n",
      "   3 │ LILIANA   B             8  [\"Excelente\", \"Excelente\", \"Sufi…  Suficiente\n",
      "   4 │ MARCO     B             8  [\"Excelente\", \"Excelente\", \"Sufi…  Suficiente\n",
      "   5 │ FABIAN    C             9  [\"Excelente\", \"Excelente\", \"Sufi…  Excelente\n",
      "   6 │ MAURICIO  C             7  [\"Excelente\", \"Excelente\", \"Sufi…  Suficiente"
     ]
    }
   ],
   "source": [
    "transform!(datos,:puntaje => (p -> ifelse.(p .< 9,\"Suficiente\",\"Excelente\")) => :nota)\n",
    "print(datos)"
   ]
  },
  {
   "cell_type": "markdown",
   "metadata": {},
   "source": [
    "## Ordenar variables\n",
    "\n",
    "Código para ordenar una base\n"
   ]
  },
  {
   "cell_type": "code",
   "execution_count": 52,
   "metadata": {},
   "outputs": [
    {
     "name": "stdout",
     "output_type": "stream",
     "text": [
      "\u001b[1m6×3 DataFrame\u001b[0m\n",
      "\u001b[1m Row \u001b[0m│\u001b[1m nombre   \u001b[0m\u001b[1m grupo  \u001b[0m\u001b[1m puntaje \u001b[0m\n",
      "\u001b[1m     \u001b[0m│\u001b[90m String   \u001b[0m\u001b[90m String \u001b[0m\u001b[90m Int64   \u001b[0m\n",
      "─────┼───────────────────────────\n",
      "   1 │ ANGELICA  A            10\n",
      "   2 │ BRENDA    A             9\n",
      "   3 │ FABIAN    C             9\n",
      "   4 │ LILIANA   B             8\n",
      "   5 │ MARCO     B             8\n",
      "   6 │ MAURICIO  C             7"
     ]
    }
   ],
   "source": [
    "datos_ord = sort(datos, :nombre)\n",
    "print(datos_ord)"
   ]
  },
  {
   "cell_type": "markdown",
   "metadata": {},
   "source": [
    "## Datos agrupados\n",
    "\n",
    "Para formar grupos en un dataset, se puede usar este código:"
   ]
  },
  {
   "cell_type": "code",
   "execution_count": 2,
   "metadata": {},
   "outputs": [
    {
     "data": {
      "text/html": [
       "<p><b>GroupedDataFrame with 3 groups based on key: grupo</b></p><p><i>First Group (2 rows): grupo = &quot;A&quot;</i></p><div class=\"data-frame\"><table class=\"data-frame\"><thead><tr><th></th><th>nombre</th><th>grupo</th><th>puntaje</th></tr><tr><th></th><th title=\"String\">String</th><th title=\"String\">String</th><th title=\"Int64\">Int64</th></tr></thead><tbody><tr><th>1</th><td>ANGELICA</td><td>A</td><td>10</td></tr><tr><th>2</th><td>BRENDA</td><td>A</td><td>9</td></tr></tbody></table></div><p>&vellip;</p><p><i>Last Group (2 rows): grupo = &quot;C&quot;</i></p><div class=\"data-frame\"><table class=\"data-frame\"><thead><tr><th></th><th>nombre</th><th>grupo</th><th>puntaje</th></tr><tr><th></th><th title=\"String\">String</th><th title=\"String\">String</th><th title=\"Int64\">Int64</th></tr></thead><tbody><tr><th>1</th><td>FABIAN</td><td>C</td><td>9</td></tr><tr><th>2</th><td>MAURICIO</td><td>C</td><td>7</td></tr></tbody></table></div>"
      ],
      "text/latex": [
       "GroupedDataFrame with 3 groups based on key: grupo\n",
       "\n",
       "First Group (2 rows): grupo = \"A\"\n",
       "\n",
       "\\begin{tabular}{r|ccc}\n",
       "\t& nombre & grupo & puntaje\\\\\n",
       "\t\\hline\n",
       "\t& String & String & Int64\\\\\n",
       "\t\\hline\n",
       "\t1 & ANGELICA & A & 10 \\\\\n",
       "\t2 & BRENDA & A & 9 \\\\\n",
       "\\end{tabular}\n",
       "\n",
       "$\\dots$\n",
       "\n",
       "Last Group (2 rows): grupo = \"C\"\n",
       "\n",
       "\\begin{tabular}{r|ccc}\n",
       "\t& nombre & grupo & puntaje\\\\\n",
       "\t\\hline\n",
       "\t& String & String & Int64\\\\\n",
       "\t\\hline\n",
       "\t1 & FABIAN & C & 9 \\\\\n",
       "\t2 & MAURICIO & C & 7 \\\\\n",
       "\\end{tabular}\n"
      ],
      "text/plain": [
       "GroupedDataFrame with 3 groups based on key: grupo\n",
       "First Group (2 rows): grupo = \"A\"\n",
       "\u001b[1m Row \u001b[0m│\u001b[1m nombre   \u001b[0m\u001b[1m grupo  \u001b[0m\u001b[1m puntaje \u001b[0m\n",
       "\u001b[1m     \u001b[0m│\u001b[90m String   \u001b[0m\u001b[90m String \u001b[0m\u001b[90m Int64   \u001b[0m\n",
       "─────┼───────────────────────────\n",
       "   1 │ ANGELICA  A            10\n",
       "   2 │ BRENDA    A             9\n",
       "⋮\n",
       "Last Group (2 rows): grupo = \"C\"\n",
       "\u001b[1m Row \u001b[0m│\u001b[1m nombre   \u001b[0m\u001b[1m grupo  \u001b[0m\u001b[1m puntaje \u001b[0m\n",
       "\u001b[1m     \u001b[0m│\u001b[90m String   \u001b[0m\u001b[90m String \u001b[0m\u001b[90m Int64   \u001b[0m\n",
       "─────┼───────────────────────────\n",
       "   1 │ FABIAN    C             9\n",
       "   2 │ MAURICIO  C             7"
      ]
     },
     "execution_count": 2,
     "metadata": {},
     "output_type": "execute_result"
    }
   ],
   "source": [
    "datosg = groupby(datos, :grupo)"
   ]
  },
  {
   "cell_type": "markdown",
   "metadata": {},
   "source": [
    "Tipo de datos del objeto"
   ]
  },
  {
   "cell_type": "code",
   "execution_count": 4,
   "metadata": {},
   "outputs": [
    {
     "data": {
      "text/plain": [
       "DataFrame"
      ]
     },
     "execution_count": 4,
     "metadata": {},
     "output_type": "execute_result"
    }
   ],
   "source": [
    "typeof(datos)"
   ]
  },
  {
   "cell_type": "markdown",
   "metadata": {},
   "source": [
    "descripción del dataset"
   ]
  },
  {
   "cell_type": "code",
   "execution_count": 5,
   "metadata": {},
   "outputs": [
    {
     "data": {
      "text/html": [
       "<div class=\"data-frame\"><p>3 rows × 7 columns</p><table class=\"data-frame\"><thead><tr><th></th><th>variable</th><th>mean</th><th>min</th><th>median</th><th>max</th><th>nmissing</th><th>eltype</th></tr><tr><th></th><th title=\"Symbol\">Symbol</th><th title=\"Union{Nothing, Float64}\">Union…</th><th title=\"Any\">Any</th><th title=\"Union{Nothing, Float64}\">Union…</th><th title=\"Any\">Any</th><th title=\"Int64\">Int64</th><th title=\"DataType\">DataType</th></tr></thead><tbody><tr><th>1</th><td>nombre</td><td></td><td>ANGELICA</td><td></td><td>MAURICIO</td><td>0</td><td>String</td></tr><tr><th>2</th><td>grupo</td><td></td><td>A</td><td></td><td>C</td><td>0</td><td>String</td></tr><tr><th>3</th><td>puntaje</td><td>8.5</td><td>7</td><td>8.5</td><td>10</td><td>0</td><td>Int64</td></tr></tbody></table></div>"
      ],
      "text/latex": [
       "\\begin{tabular}{r|ccccccc}\n",
       "\t& variable & mean & min & median & max & nmissing & eltype\\\\\n",
       "\t\\hline\n",
       "\t& Symbol & Union… & Any & Union… & Any & Int64 & DataType\\\\\n",
       "\t\\hline\n",
       "\t1 & nombre &  & ANGELICA &  & MAURICIO & 0 & String \\\\\n",
       "\t2 & grupo &  & A &  & C & 0 & String \\\\\n",
       "\t3 & puntaje & 8.5 & 7 & 8.5 & 10 & 0 & Int64 \\\\\n",
       "\\end{tabular}\n"
      ],
      "text/plain": [
       "\u001b[1m3×7 DataFrame\u001b[0m\n",
       "\u001b[1m Row \u001b[0m│\u001b[1m variable \u001b[0m\u001b[1m mean   \u001b[0m\u001b[1m min      \u001b[0m\u001b[1m median \u001b[0m\u001b[1m max      \u001b[0m\u001b[1m nmissing \u001b[0m\u001b[1m eltype   \u001b[0m\n",
       "\u001b[1m     \u001b[0m│\u001b[90m Symbol   \u001b[0m\u001b[90m Union… \u001b[0m\u001b[90m Any      \u001b[0m\u001b[90m Union… \u001b[0m\u001b[90m Any      \u001b[0m\u001b[90m Int64    \u001b[0m\u001b[90m DataType \u001b[0m\n",
       "─────┼──────────────────────────────────────────────────────────────────\n",
       "   1 │ nombre   \u001b[90m        \u001b[0m ANGELICA \u001b[90m        \u001b[0m MAURICIO         0  String\n",
       "   2 │ grupo    \u001b[90m        \u001b[0m A        \u001b[90m        \u001b[0m C                0  String\n",
       "   3 │ puntaje   8.5     7         8.5     10               0  Int64"
      ]
     },
     "execution_count": 5,
     "metadata": {},
     "output_type": "execute_result"
    }
   ],
   "source": [
    "describe(datos)"
   ]
  },
  {
   "cell_type": "markdown",
   "metadata": {},
   "source": [
    "## Uniones de bases\n",
    "\n",
    "En esta sección se abordará como hace uniones de bases"
   ]
  },
  {
   "cell_type": "code",
   "execution_count": 2,
   "metadata": {},
   "outputs": [
    {
     "name": "stdout",
     "output_type": "stream",
     "text": [
      "\u001b[1m6×3 DataFrame\u001b[0m\n",
      "\u001b[1m Row \u001b[0m│\u001b[1m nombre   \u001b[0m\u001b[1m apellidos \u001b[0m\u001b[1m edad  \u001b[0m\n",
      "\u001b[1m     \u001b[0m│\u001b[90m String   \u001b[0m\u001b[90m String    \u001b[0m\u001b[90m Int64 \u001b[0m\n",
      "─────┼────────────────────────────\n",
      "   1 │ ANGELICA  SANTIAGO      20\n",
      "   2 │ BRENDA    CAMACHO       19\n",
      "   3 │ LILIANA   BUENO         18\n",
      "   4 │ MARCO     BALDERAS      18\n",
      "   5 │ FABIAN    CASTILLO      19\n",
      "   6 │ MAURICIO  ZEPEDA        27"
     ]
    }
   ],
   "source": [
    "info = DataFrame(nombre =[\"ANGELICA\",\"BRENDA\",\"LILIANA\",\"MARCO\",\"FABIAN\",\"MAURICIO\"],\n",
    "    apellidos = [\"SANTIAGO\",\"CAMACHO\",\"BUENO\",\"BALDERAS\",\"CASTILLO\",\"ZEPEDA\"],\n",
    "    edad = [20,19,18,18,19,27]);\n",
    "print(info)"
   ]
  },
  {
   "cell_type": "markdown",
   "metadata": {},
   "source": [
    "Se realizará la unión"
   ]
  },
  {
   "cell_type": "code",
   "execution_count": 5,
   "metadata": {},
   "outputs": [
    {
     "data": {
      "text/html": [
       "<div class=\"data-frame\"><p>6 rows × 5 columns</p><table class=\"data-frame\"><thead><tr><th></th><th>nombre</th><th>grupo</th><th>puntaje</th><th>apellidos</th><th>edad</th></tr><tr><th></th><th title=\"String\">String</th><th title=\"String\">String</th><th title=\"Int64\">Int64</th><th title=\"String\">String</th><th title=\"Int64\">Int64</th></tr></thead><tbody><tr><th>1</th><td>ANGELICA</td><td>A</td><td>10</td><td>SANTIAGO</td><td>20</td></tr><tr><th>2</th><td>BRENDA</td><td>A</td><td>9</td><td>CAMACHO</td><td>19</td></tr><tr><th>3</th><td>LILIANA</td><td>B</td><td>8</td><td>BUENO</td><td>18</td></tr><tr><th>4</th><td>MARCO</td><td>B</td><td>8</td><td>BALDERAS</td><td>18</td></tr><tr><th>5</th><td>FABIAN</td><td>C</td><td>9</td><td>CASTILLO</td><td>19</td></tr><tr><th>6</th><td>MAURICIO</td><td>C</td><td>7</td><td>ZEPEDA</td><td>27</td></tr></tbody></table></div>"
      ],
      "text/latex": [
       "\\begin{tabular}{r|ccccc}\n",
       "\t& nombre & grupo & puntaje & apellidos & edad\\\\\n",
       "\t\\hline\n",
       "\t& String & String & Int64 & String & Int64\\\\\n",
       "\t\\hline\n",
       "\t1 & ANGELICA & A & 10 & SANTIAGO & 20 \\\\\n",
       "\t2 & BRENDA & A & 9 & CAMACHO & 19 \\\\\n",
       "\t3 & LILIANA & B & 8 & BUENO & 18 \\\\\n",
       "\t4 & MARCO & B & 8 & BALDERAS & 18 \\\\\n",
       "\t5 & FABIAN & C & 9 & CASTILLO & 19 \\\\\n",
       "\t6 & MAURICIO & C & 7 & ZEPEDA & 27 \\\\\n",
       "\\end{tabular}\n"
      ],
      "text/plain": [
       "\u001b[1m6×5 DataFrame\u001b[0m\n",
       "\u001b[1m Row \u001b[0m│\u001b[1m nombre   \u001b[0m\u001b[1m grupo  \u001b[0m\u001b[1m puntaje \u001b[0m\u001b[1m apellidos \u001b[0m\u001b[1m edad  \u001b[0m\n",
       "\u001b[1m     \u001b[0m│\u001b[90m String   \u001b[0m\u001b[90m String \u001b[0m\u001b[90m Int64   \u001b[0m\u001b[90m String    \u001b[0m\u001b[90m Int64 \u001b[0m\n",
       "─────┼─────────────────────────────────────────────\n",
       "   1 │ ANGELICA  A            10  SANTIAGO      20\n",
       "   2 │ BRENDA    A             9  CAMACHO       19\n",
       "   3 │ LILIANA   B             8  BUENO         18\n",
       "   4 │ MARCO     B             8  BALDERAS      18\n",
       "   5 │ FABIAN    C             9  CASTILLO      19\n",
       "   6 │ MAURICIO  C             7  ZEPEDA        27"
      ]
     },
     "execution_count": 5,
     "metadata": {},
     "output_type": "execute_result"
    }
   ],
   "source": [
    "datos2=innerjoin(datos,info,on=:nombre)"
   ]
  },
  {
   "cell_type": "code",
   "execution_count": 7,
   "metadata": {},
   "outputs": [
    {
     "data": {
      "text/plain": [
       "DataFrame"
      ]
     },
     "execution_count": 7,
     "metadata": {},
     "output_type": "execute_result"
    }
   ],
   "source": [
    "typeof(datos2)"
   ]
  },
  {
   "cell_type": "code",
   "execution_count": 8,
   "metadata": {},
   "outputs": [
    {
     "name": "stdout",
     "output_type": "stream",
     "text": [
      "\u001b[1m6×5 DataFrame\u001b[0m\n",
      "\u001b[1m Row \u001b[0m│\u001b[1m nombre   \u001b[0m\u001b[1m grupo  \u001b[0m\u001b[1m puntaje \u001b[0m\u001b[1m apellidos \u001b[0m\u001b[1m edad  \u001b[0m\n",
      "\u001b[1m     \u001b[0m│\u001b[90m String   \u001b[0m\u001b[90m String \u001b[0m\u001b[90m Int64   \u001b[0m\u001b[90m String    \u001b[0m\u001b[90m Int64 \u001b[0m\n",
      "─────┼─────────────────────────────────────────────\n",
      "   1 │ ANGELICA  A            10  SANTIAGO      20\n",
      "   2 │ BRENDA    A             9  CAMACHO       19\n",
      "   3 │ LILIANA   B             8  BUENO         18\n",
      "   4 │ MARCO     B             8  BALDERAS      18\n",
      "   5 │ FABIAN    C             9  CASTILLO      19\n",
      "   6 │ MAURICIO  C             7  ZEPEDA        27"
     ]
    }
   ],
   "source": [
    "print(datos2)"
   ]
  }
 ],
 "metadata": {
  "kernelspec": {
   "display_name": "Julia 1.6.2",
   "language": "julia",
   "name": "julia-1.6"
  },
  "language_info": {
   "file_extension": ".jl",
   "mimetype": "application/julia",
   "name": "julia",
   "version": "1.6.2"
  },
  "orig_nbformat": 4
 },
 "nbformat": 4,
 "nbformat_minor": 2
}
