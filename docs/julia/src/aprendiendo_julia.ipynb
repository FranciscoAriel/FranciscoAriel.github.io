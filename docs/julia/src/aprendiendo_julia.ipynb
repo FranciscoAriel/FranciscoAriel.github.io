{
 "cells": [
  {
   "cell_type": "markdown",
   "metadata": {},
   "source": [
    "# Aprendiendo Julia"
   ]
  },
  {
   "cell_type": "markdown",
   "metadata": {},
   "source": [
    "Este libro es para aprender julia.\n",
    "Primero aprendermos a introducir datos de forma manual."
   ]
  },
  {
   "cell_type": "code",
   "execution_count": 2,
   "metadata": {},
   "outputs": [
    {
     "name": "stdout",
     "output_type": "stream",
     "text": [
      "\u001b[1m6×3 DataFrame\u001b[0m\n",
      "\u001b[1m Row \u001b[0m│\u001b[1m nombre   \u001b[0m\u001b[1m grupo  \u001b[0m\u001b[1m puntaje \u001b[0m\n",
      "\u001b[1m     \u001b[0m│\u001b[90m String   \u001b[0m\u001b[90m String \u001b[0m\u001b[90m Int64   \u001b[0m\n",
      "─────┼───────────────────────────\n",
      "   1 │ ANGELICA  A            10\n",
      "   2 │ BRENDA    A             9\n",
      "   3 │ LILIANA   B             8\n",
      "   4 │ MARCO     B             8\n",
      "   5 │ FABIAN    C             9\n",
      "   6 │ MAURICIO  C             7"
     ]
    }
   ],
   "source": [
    "using DataFrames\n",
    "datos = DataFrame(nombre =[\"ANGELICA\",\"BRENDA\",\"LILIANA\",\"MARCO\",\"FABIAN\",\"MAURICIO\"],\n",
    "    grupo = [\"A\",\"A\",\"B\",\"B\",\"C\",\"C\"],\n",
    "    puntaje = [10,9,8,8,9,7]);\n",
    "print(datos)"
   ]
  },
  {
   "cell_type": "markdown",
   "metadata": {},
   "source": [
    "## Filtrado de datos"
   ]
  },
  {
   "cell_type": "markdown",
   "metadata": {},
   "source": [
    "Para hacer un filtrado de datos se usa lo siguiente:"
   ]
  },
  {
   "cell_type": "code",
   "execution_count": 36,
   "metadata": {},
   "outputs": [
    {
     "name": "stdout",
     "output_type": "stream",
     "text": [
      "\u001b[1m2×3 DataFrame\u001b[0m\n",
      "\u001b[1m Row \u001b[0m│\u001b[1m nombre   \u001b[0m\u001b[1m grupo  \u001b[0m\u001b[1m puntaje \u001b[0m\n",
      "\u001b[1m     \u001b[0m│\u001b[90m String   \u001b[0m\u001b[90m String \u001b[0m\u001b[90m Int64   \u001b[0m\n",
      "─────┼───────────────────────────\n",
      "   1 │ ANGELICA  A            10\n",
      "   2 │ BRENDA    A             9"
     ]
    }
   ],
   "source": [
    "datos2 = datos[datos.grupo .== \"A\",:]\n",
    "print(datos2)"
   ]
  },
  {
   "cell_type": "markdown",
   "metadata": {},
   "source": [
    "Para elegir más de un valor"
   ]
  },
  {
   "cell_type": "code",
   "execution_count": 39,
   "metadata": {},
   "outputs": [
    {
     "name": "stdout",
     "output_type": "stream",
     "text": [
      "\u001b[1m4×3 DataFrame\u001b[0m\n",
      "\u001b[1m Row \u001b[0m│\u001b[1m nombre   \u001b[0m\u001b[1m grupo  \u001b[0m\u001b[1m puntaje \u001b[0m\n",
      "\u001b[1m     \u001b[0m│\u001b[90m String   \u001b[0m\u001b[90m String \u001b[0m\u001b[90m Int64   \u001b[0m\n",
      "─────┼───────────────────────────\n",
      "   1 │ ANGELICA  A            10\n",
      "   2 │ BRENDA    A             9\n",
      "   3 │ FABIAN    C             9\n",
      "   4 │ MAURICIO  C             7"
     ]
    }
   ],
   "source": [
    "datos2 = datos[in([\"A\",\"C\"]).(datos.grupo) ,:]\n",
    "print(datos2)"
   ]
  },
  {
   "cell_type": "markdown",
   "metadata": {},
   "source": [
    "## Agregar nuevas variables"
   ]
  },
  {
   "cell_type": "markdown",
   "metadata": {},
   "source": [
    "Se describe como agregar nuevas variables"
   ]
  },
  {
   "cell_type": "code",
   "execution_count": 39,
   "metadata": {},
   "outputs": [
    {
     "name": "stdout",
     "output_type": "stream",
     "text": [
      "\u001b[1m6×4 DataFrame\u001b[0m\n",
      "\u001b[1m Row \u001b[0m│\u001b[1m nombre   \u001b[0m\u001b[1m grupo  \u001b[0m\u001b[1m puntaje \u001b[0m\u001b[1m nota       \u001b[0m\n",
      "\u001b[1m     \u001b[0m│\u001b[90m String   \u001b[0m\u001b[90m String \u001b[0m\u001b[90m Int64   \u001b[0m\u001b[90m String     \u001b[0m\n",
      "─────┼───────────────────────────────────────\n",
      "   1 │ ANGELICA  A            10  Excelente\n",
      "   2 │ BRENDA    A             9  Excelente\n",
      "   3 │ LILIANA   B             8  Suficiente\n",
      "   4 │ MARCO     B             8  Suficiente\n",
      "   5 │ FABIAN    C             9  Excelente\n",
      "   6 │ MAURICIO  C             7  Suficiente"
     ]
    }
   ],
   "source": [
    "using DataFrames\n",
    "datos.nota = ifelse.(datos.puntaje .< 9, \"Suficiente\", \"Excelente\")\n",
    "print(datos)"
   ]
  }
 ],
 "metadata": {
  "kernelspec": {
   "display_name": "Julia 1.6.2",
   "language": "julia",
   "name": "julia-1.6"
  },
  "language_info": {
   "file_extension": ".jl",
   "mimetype": "application/julia",
   "name": "julia",
   "version": "1.6.2"
  },
  "orig_nbformat": 4
 },
 "nbformat": 4,
 "nbformat_minor": 2
}
