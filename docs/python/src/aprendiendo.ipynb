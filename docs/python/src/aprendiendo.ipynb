{
 "cells": [
  {
   "cell_type": "markdown",
   "metadata": {},
   "source": [
    "# Aprendiendo Python"
   ]
  },
  {
   "cell_type": "markdown",
   "metadata": {},
   "source": [
    "Este código será usado para aprender python"
   ]
  },
  {
   "cell_type": "markdown",
   "metadata": {},
   "source": [
    "## Ejemplo de listas"
   ]
  },
  {
   "cell_type": "markdown",
   "metadata": {},
   "source": [
    "Aquí se mostrará como hacer listas y algunas de sus propiedades"
   ]
  },
  {
   "cell_type": "code",
   "execution_count": 6,
   "metadata": {},
   "outputs": [
    {
     "name": "stdout",
     "output_type": "stream",
     "text": [
      "['manzana', 'naranja', 'pera', 'uva']\n"
     ]
    }
   ],
   "source": [
    "mi_lista = [\"manzana\",\"naranja\",\"pera\",\"uva\"]\n",
    "print(mi_lista)"
   ]
  },
  {
   "cell_type": "markdown",
   "metadata": {},
   "source": [
    "Para acceder a los elementos se usa `[]` indicando el elemento (el primero inicia en 0)."
   ]
  },
  {
   "cell_type": "code",
   "execution_count": 2,
   "metadata": {},
   "outputs": [
    {
     "data": {
      "text/plain": [
       "'manzana'"
      ]
     },
     "execution_count": 2,
     "metadata": {},
     "output_type": "execute_result"
    }
   ],
   "source": [
    "mi_lista[0]"
   ]
  },
  {
   "cell_type": "markdown",
   "metadata": {},
   "source": [
    "Agregar un nuevo elemento"
   ]
  },
  {
   "cell_type": "code",
   "execution_count": 7,
   "metadata": {},
   "outputs": [
    {
     "data": {
      "text/plain": [
       "['manzana', 'naranja', 'pera', 'uva', 'fresa']"
      ]
     },
     "execution_count": 7,
     "metadata": {},
     "output_type": "execute_result"
    }
   ],
   "source": [
    "mi_lista.append(\"fresa\")\n",
    "mi_lista"
   ]
  },
  {
   "cell_type": "markdown",
   "metadata": {},
   "source": [
    "## Diccionarios"
   ]
  },
  {
   "cell_type": "markdown",
   "metadata": {},
   "source": [
    "Ahora trabajaremos con los diccionarios, que son parecidos a los datasets (pero no lo son)"
   ]
  },
  {
   "cell_type": "code",
   "execution_count": 1,
   "metadata": {},
   "outputs": [
    {
     "data": {
      "text/plain": [
       "{'nombre': 'Juan', 'apellido': 'Pérez', 'edad': 30}"
      ]
     },
     "execution_count": 1,
     "metadata": {},
     "output_type": "execute_result"
    }
   ],
   "source": [
    "dic = {\n",
    "  \"nombre\": \"Juan\",\n",
    "  \"apellido\": \"Pérez\",\n",
    "  \"edad\": 30\n",
    "}\n",
    "dic"
   ]
  },
  {
   "cell_type": "markdown",
   "metadata": {},
   "source": [
    "Los diccionarios pueden tener más de un valor"
   ]
  },
  {
   "cell_type": "code",
   "execution_count": 2,
   "metadata": {},
   "outputs": [
    {
     "data": {
      "text/plain": [
       "{'nombre': ['Juan', 'María', 'José'],\n",
       " 'apellido': ['Pérez', 'Martínez', 'Pérez'],\n",
       " 'edad': [30, 50, 45],\n",
       " 'genero': ['M', 'F', 'M']}"
      ]
     },
     "execution_count": 2,
     "metadata": {},
     "output_type": "execute_result"
    }
   ],
   "source": [
    "sexo = [\"M\",\"F\",\"M\"]\n",
    "dic2 = {\n",
    "  \"nombre\": [\"Juan\",\"María\",\"José\"],\n",
    "  \"apellido\": [\"Pérez\",\"Martínez\",\"Pérez\"],\n",
    "  \"edad\": [30,50,45],\n",
    "  \"genero\":sexo\n",
    "}\n",
    "dic2"
   ]
  }
 ],
 "metadata": {
  "interpreter": {
   "hash": "073345f9ec1f5efad5270eb54c91448412ce2e31836f5db7c2eb1906bd80c69c"
  },
  "kernelspec": {
   "display_name": "Python 3.7.3 64-bit ('base': conda)",
   "name": "python3"
  },
  "language_info": {
   "codemirror_mode": {
    "name": "ipython",
    "version": 3
   },
   "file_extension": ".py",
   "mimetype": "text/x-python",
   "name": "python",
   "nbconvert_exporter": "python",
   "pygments_lexer": "ipython3",
   "version": "3.7.3"
  },
  "orig_nbformat": 4
 },
 "nbformat": 4,
 "nbformat_minor": 2
}
