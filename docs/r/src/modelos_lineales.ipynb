{
 "cells": [
  {
   "cell_type": "markdown",
   "metadata": {},
   "source": [
    "## Modelo ANOVA de una vía\n",
    "\n",
    "Para ajustar un modelo ANOVA de 1 vía se puede usar la función `lm()`."
   ]
  },
  {
   "cell_type": "code",
   "execution_count": 1,
   "metadata": {},
   "outputs": [
    {
     "data": {
      "text/html": [
       "<style>\n",
       ".list-inline {list-style: none; margin:0; padding: 0}\n",
       ".list-inline>li {display: inline-block}\n",
       ".list-inline>li:not(:last-child)::after {content: \"\\00b7\"; padding: 0 .5ex}\n",
       "</style>\n",
       "<ol class=list-inline><li>1000</li><li>8</li></ol>\n"
      ],
      "text/latex": [
       "\\begin{enumerate*}\n",
       "\\item 1000\n",
       "\\item 8\n",
       "\\end{enumerate*}\n"
      ],
      "text/markdown": [
       "1. 1000\n",
       "2. 8\n",
       "\n",
       "\n"
      ],
      "text/plain": [
       "[1] 1000    8"
      ]
     },
     "metadata": {},
     "output_type": "display_data"
    }
   ],
   "source": [
    "datos = read.csv(\"StudentsPerformance.csv\")\n",
    "dim(datos)"
   ]
  },
  {
   "cell_type": "markdown",
   "metadata": {},
   "source": [
    "Para saber las variables que se usarán, se ejecutará el comando `names()`."
   ]
  },
  {
   "cell_type": "code",
   "execution_count": 2,
   "metadata": {},
   "outputs": [
    {
     "data": {
      "text/html": [
       "<style>\n",
       ".list-inline {list-style: none; margin:0; padding: 0}\n",
       ".list-inline>li {display: inline-block}\n",
       ".list-inline>li:not(:last-child)::after {content: \"\\00b7\"; padding: 0 .5ex}\n",
       "</style>\n",
       "<ol class=list-inline><li>'gender'</li><li>'race.ethnicity'</li><li>'parental.level.of.education'</li><li>'lunch'</li><li>'test.preparation.course'</li><li>'math.score'</li><li>'reading.score'</li><li>'writing.score'</li></ol>\n"
      ],
      "text/latex": [
       "\\begin{enumerate*}\n",
       "\\item 'gender'\n",
       "\\item 'race.ethnicity'\n",
       "\\item 'parental.level.of.education'\n",
       "\\item 'lunch'\n",
       "\\item 'test.preparation.course'\n",
       "\\item 'math.score'\n",
       "\\item 'reading.score'\n",
       "\\item 'writing.score'\n",
       "\\end{enumerate*}\n"
      ],
      "text/markdown": [
       "1. 'gender'\n",
       "2. 'race.ethnicity'\n",
       "3. 'parental.level.of.education'\n",
       "4. 'lunch'\n",
       "5. 'test.preparation.course'\n",
       "6. 'math.score'\n",
       "7. 'reading.score'\n",
       "8. 'writing.score'\n",
       "\n",
       "\n"
      ],
      "text/plain": [
       "[1] \"gender\"                      \"race.ethnicity\"             \n",
       "[3] \"parental.level.of.education\" \"lunch\"                      \n",
       "[5] \"test.preparation.course\"     \"math.score\"                 \n",
       "[7] \"reading.score\"               \"writing.score\"              "
      ]
     },
     "metadata": {},
     "output_type": "display_data"
    }
   ],
   "source": [
    "names(datos)"
   ]
  },
  {
   "cell_type": "markdown",
   "metadata": {},
   "source": [
    "Para este ejercicio se usarán las variables `test.preparation.course` y `math.score`. El objetivo es ver si existe alguna diferencia en las calificaciones de mateáticas de quienes tomaron el curso de preparación y quienes no.\n",
    "\n",
    "A continuación se muestran algunos gráficos descriptivos para ver tanto las categorías del factor, así como el comportamiento de la variable respuesta."
   ]
  },
  {
   "cell_type": "code",
   "execution_count": 6,
   "metadata": {},
   "outputs": [
    {
     "data": {
      "image/png": "[encoded data removed]",
      "text/plain": [
       "plot without title"
      ]
     },
     "metadata": {
      "image/png": {
       "height": 420,
       "width": 420
      }
     },
     "output_type": "display_data"
    }
   ],
   "source": [
    "library(ggplot2)\n",
    "ggplot(datos,aes(test.preparation.course,math.score))+geom_boxplot()"
   ]
  },
  {
   "cell_type": "markdown",
   "metadata": {},
   "source": [
    "### Ajuste del modelo\n",
    "\n",
    "Para ajustar el modelo se usa el siguiente código."
   ]
  },
  {
   "cell_type": "code",
   "execution_count": 8,
   "metadata": {},
   "outputs": [
    {
     "data": {
      "text/plain": [
       "\n",
       "Call:\n",
       "lm(formula = math.score ~ test.preparation.course, data = datos)\n",
       "\n",
       "Residuals:\n",
       "    Min      1Q  Median      3Q     Max \n",
       "-64.078 -10.078  -0.078   9.922  35.922 \n",
       "\n",
       "Coefficients:\n",
       "                            Estimate Std. Error t value Pr(>|t|)    \n",
       "(Intercept)                  69.6955     0.7890  88.330  < 2e-16 ***\n",
       "test.preparation.coursenone  -5.6176     0.9848  -5.705 1.54e-08 ***\n",
       "---\n",
       "Signif. codes:  0 '***' 0.001 '**' 0.01 '*' 0.05 '.' 0.1 ' ' 1\n",
       "\n",
       "Residual standard error: 14.93 on 998 degrees of freedom\n",
       "Multiple R-squared:  0.03158,\tAdjusted R-squared:  0.03061 \n",
       "F-statistic: 32.54 on 1 and 998 DF,  p-value: 1.536e-08\n"
      ]
     },
     "metadata": {},
     "output_type": "display_data"
    }
   ],
   "source": [
    "modelo = lm(math.score~test.preparation.course,data=datos)\n",
    "summary(modelo)"
   ]
  },
  {
   "cell_type": "code",
   "execution_count": 17,
   "metadata": {},
   "outputs": [
    {
     "name": "stdout",
     "output_type": "stream",
     "text": [
      "\n",
      "Study: modelo ~ \"test.preparation.course\"\n",
      "\n",
      "LSD t Test for math.score \n",
      "\n",
      "Mean Square Error:  222.8817 \n",
      "\n",
      "test.preparation.course,  means and individual ( 95 %) CI\n",
      "\n",
      "          math.score      std   r      LCL      UCL Min Max\n",
      "completed   69.69553 14.44470 358 68.14717 71.24389  23 100\n",
      "none        64.07788 15.19238 642 62.92165 65.23411   0 100\n",
      "\n",
      "Alpha: 0.05 ; DF Error: 998\n",
      "Critical Value of t: 1.962344 \n",
      "\n",
      "Groups according to probability of means differences and alpha level( 0.05 )\n",
      "\n",
      "Treatments with the same letter are not significantly different.\n",
      "\n",
      "          math.score groups\n",
      "completed   69.69553      a\n",
      "none        64.07788      b\n"
     ]
    }
   ],
   "source": [
    "library(agricolae)\n",
    "medias=LSD.test(modelo,\"test.preparation.course\",console=TRUE)"
   ]
  },
  {
   "cell_type": "markdown",
   "metadata": {},
   "source": [
    "### Predicción\n",
    "\n",
    "Para realizar la predicción de un modelo, se puede usar la función `predict()`."
   ]
  },
  {
   "cell_type": "code",
   "execution_count": 23,
   "metadata": {},
   "outputs": [
    {
     "data": {
      "text/html": [
       "<table class=\"dataframe\">\n",
       "<caption>A matrix: 2 × 3 of type dbl</caption>\n",
       "<thead>\n",
       "\t<tr><th></th><th scope=col>fit</th><th scope=col>lwr</th><th scope=col>upr</th></tr>\n",
       "</thead>\n",
       "<tbody>\n",
       "\t<tr><th scope=row>1</th><td>64.07788</td><td>62.92165</td><td>65.23411</td></tr>\n",
       "\t<tr><th scope=row>2</th><td>69.69553</td><td>68.14717</td><td>71.24389</td></tr>\n",
       "</tbody>\n",
       "</table>\n"
      ],
      "text/latex": [
       "A matrix: 2 × 3 of type dbl\n",
       "\\begin{tabular}{r|lll}\n",
       "  & fit & lwr & upr\\\\\n",
       "\\hline\n",
       "\t1 & 64.07788 & 62.92165 & 65.23411\\\\\n",
       "\t2 & 69.69553 & 68.14717 & 71.24389\\\\\n",
       "\\end{tabular}\n"
      ],
      "text/markdown": [
       "\n",
       "A matrix: 2 × 3 of type dbl\n",
       "\n",
       "| <!--/--> | fit | lwr | upr |\n",
       "|---|---|---|---|\n",
       "| 1 | 64.07788 | 62.92165 | 65.23411 |\n",
       "| 2 | 69.69553 | 68.14717 | 71.24389 |\n",
       "\n"
      ],
      "text/plain": [
       "  fit      lwr      upr     \n",
       "1 64.07788 62.92165 65.23411\n",
       "2 69.69553 68.14717 71.24389"
      ]
     },
     "metadata": {},
     "output_type": "display_data"
    }
   ],
   "source": [
    "nuevos = data.frame(\"test.preparation.course\"=c(\"none\",\"completed\"))\n",
    "predict(modelo,newdata=nuevos,interval=\"confidence\")"
   ]
  },
  {
   "cell_type": "code",
   "execution_count": 24,
   "metadata": {},
   "outputs": [
    {
     "data": {
      "text/html": [
       "<table class=\"dataframe\">\n",
       "<caption>A matrix: 2 × 3 of type dbl</caption>\n",
       "<thead>\n",
       "\t<tr><th></th><th scope=col>fit</th><th scope=col>lwr</th><th scope=col>upr</th></tr>\n",
       "</thead>\n",
       "<tbody>\n",
       "\t<tr><th scope=row>1</th><td>64.07788</td><td>34.75881</td><td>93.39696</td></tr>\n",
       "\t<tr><th scope=row>2</th><td>69.69553</td><td>40.35837</td><td>99.03269</td></tr>\n",
       "</tbody>\n",
       "</table>\n"
      ],
      "text/latex": [
       "A matrix: 2 × 3 of type dbl\n",
       "\\begin{tabular}{r|lll}\n",
       "  & fit & lwr & upr\\\\\n",
       "\\hline\n",
       "\t1 & 64.07788 & 34.75881 & 93.39696\\\\\n",
       "\t2 & 69.69553 & 40.35837 & 99.03269\\\\\n",
       "\\end{tabular}\n"
      ],
      "text/markdown": [
       "\n",
       "A matrix: 2 × 3 of type dbl\n",
       "\n",
       "| <!--/--> | fit | lwr | upr |\n",
       "|---|---|---|---|\n",
       "| 1 | 64.07788 | 34.75881 | 93.39696 |\n",
       "| 2 | 69.69553 | 40.35837 | 99.03269 |\n",
       "\n"
      ],
      "text/plain": [
       "  fit      lwr      upr     \n",
       "1 64.07788 34.75881 93.39696\n",
       "2 69.69553 40.35837 99.03269"
      ]
     },
     "metadata": {},
     "output_type": "display_data"
    }
   ],
   "source": [
    "nuevos = data.frame(\"test.preparation.course\"=c(\"none\",\"completed\"))\n",
    "predict(modelo,newdata=nuevos,interval=\"prediction\")"
   ]
  }
 ],
 "metadata": {
  "kernelspec": {
   "display_name": "R",
   "language": "R",
   "name": "ir"
  },
  "language_info": {
   "codemirror_mode": "r",
   "file_extension": ".r",
   "mimetype": "text/x-r-source",
   "name": "R",
   "pygments_lexer": "r",
   "version": "4.1.1"
  },
  "orig_nbformat": 4
 },
 "nbformat": 4,
 "nbformat_minor": 2
}
