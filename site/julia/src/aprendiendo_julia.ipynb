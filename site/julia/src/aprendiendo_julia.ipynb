{
 "cells": [
  {
   "cell_type": "markdown",
   "metadata": {},
   "source": [
    "# Aprendiendo Julia"
   ]
  },
  {
   "cell_type": "markdown",
   "metadata": {},
   "source": [
    "Este libro es para aprender julia.\n",
    "Primero aprendermos a introducir datos de forma manual."
   ]
  },
  {
   "cell_type": "code",
   "execution_count": 15,
   "metadata": {},
   "outputs": [
    {
     "name": "stdout",
     "output_type": "stream",
     "text": [
      "\u001b[1m6×3 DataFrame\u001b[0m\n",
      "\u001b[1m Row \u001b[0m│\u001b[1m nombre   \u001b[0m\u001b[1m grupo  \u001b[0m\u001b[1m puntaje \u001b[0m\n",
      "\u001b[1m     \u001b[0m│\u001b[90m String   \u001b[0m\u001b[90m String \u001b[0m\u001b[90m Int64   \u001b[0m\n",
      "─────┼───────────────────────────\n",
      "   1 │ ANGELICA  A            10\n",
      "   2 │ BRENDA    A             9\n",
      "   3 │ LILIANA   B             8\n",
      "   4 │ MARCO     B             8\n",
      "   5 │ FABIAN    C             9\n",
      "   6 │ MAURICIO  C             7"
     ]
    }
   ],
   "source": [
    "using DataFrames\n",
    "datos = DataFrame(nombre =[\"ANGELICA\",\"BRENDA\",\"LILIANA\",\"MARCO\",\"FABIAN\",\"MAURICIO\"],\n",
    "    grupo = [\"A\",\"A\",\"B\",\"B\",\"C\",\"C\"],\n",
    "    puntaje = [10,9,8,8,9,7]);\n",
    "print(datos)"
   ]
  },
  {
   "cell_type": "markdown",
   "metadata": {},
   "source": [
    "Vamos a conocer un poco de las propiedades de la base"
   ]
  },
  {
   "cell_type": "code",
   "execution_count": 16,
   "metadata": {},
   "outputs": [
    {
     "data": {
      "text/plain": [
       "\"6×3 DataFrame\""
      ]
     },
     "metadata": {},
     "output_type": "display_data"
    }
   ],
   "source": [
    "summary(datos)"
   ]
  },
  {
   "cell_type": "markdown",
   "metadata": {},
   "source": [
    "### Leer datos de un archivo\n",
    "\n",
    "Se muestra cómo leer un archivo en línea."
   ]
  },
  {
   "cell_type": "code",
   "execution_count": 2,
   "metadata": {},
   "outputs": [
    {
     "data": {
      "text/html": [
       "<div class=\"data-frame\"><p>20 rows × 18 columns (omitted printing of 10 columns)</p><table class=\"data-frame\"><thead><tr><th></th><th>Country</th><th>Agriculture</th><th>Exports</th><th>Fertility</th><th>Forest_area</th><th>GDP_growth</th><th>GNI_pc</th><th>Gross_capital_formation</th></tr><tr><th></th><th title=\"String3\">String3</th><th title=\"Float64\">Float64</th><th title=\"Float64\">Float64</th><th title=\"Float64\">Float64</th><th title=\"Float64\">Float64</th><th title=\"Float64\">Float64</th><th title=\"Int64\">Int64</th><th title=\"Float64\">Float64</th></tr></thead><tbody><tr><th>1</th><td>ARG</td><td>5.9324</td><td>16.5918</td><td>2.233</td><td>285730.0</td><td>-9.89527</td><td>9080</td><td>14.0197</td></tr><tr><th>2</th><td>AUS</td><td>2.00609</td><td>23.9839</td><td>1.581</td><td>1.34005e6</td><td>-0.00383656</td><td>53680</td><td>22.2689</td></tr><tr><th>3</th><td>BRA</td><td>5.89325</td><td>16.7951</td><td>1.706</td><td>4.9662e6</td><td>-3.87868</td><td>7800</td><td>15.9306</td></tr><tr><th>4</th><td>CHN</td><td>7.69864</td><td>18.5411</td><td>1.7</td><td>2.19978e6</td><td>2.2397</td><td>10530</td><td>43.3667</td></tr><tr><th>5</th><td>FRA</td><td>1.59684</td><td>27.8736</td><td>1.83</td><td>172530.0</td><td>-7.85526</td><td>39500</td><td>23.8119</td></tr><tr><th>6</th><td>DEU</td><td>0.73531</td><td>43.4169</td><td>1.53</td><td>114190.0</td><td>-4.56962</td><td>47520</td><td>21.149</td></tr><tr><th>7</th><td>IND</td><td>18.2289</td><td>18.7089</td><td>2.184</td><td>721600.0</td><td>-6.59608</td><td>1910</td><td>27.8963</td></tr><tr><th>8</th><td>IDN</td><td>13.7025</td><td>17.2714</td><td>2.266</td><td>921332.0</td><td>-2.065</td><td>3870</td><td>32.3546</td></tr><tr><th>9</th><td>ITA</td><td>2.00991</td><td>29.5325</td><td>1.24</td><td>95661.3</td><td>-9.02567</td><td>32380</td><td>17.7035</td></tr><tr><th>10</th><td>JPN</td><td>1.04427</td><td>15.5586</td><td>1.34</td><td>249350.0</td><td>-4.5069</td><td>40810</td><td>25.4149</td></tr><tr><th>11</th><td>KOR</td><td>1.83229</td><td>36.4459</td><td>0.837</td><td>62870.0</td><td>-0.852031</td><td>32930</td><td>31.861</td></tr><tr><th>12</th><td>MEX</td><td>3.7985</td><td>39.603</td><td>2.079</td><td>6.56921e5</td><td>-8.16736</td><td>8530</td><td>19.1617</td></tr><tr><th>13</th><td>NLD</td><td>1.58231</td><td>77.8566</td><td>1.55</td><td>3695.0</td><td>-3.79864</td><td>51070</td><td>21.7422</td></tr><tr><th>14</th><td>RUS</td><td>4.00204</td><td>25.5312</td><td>1.505</td><td>8.15312e6</td><td>-2.6833</td><td>10740</td><td>23.4841</td></tr><tr><th>15</th><td>SAU</td><td>2.54191</td><td>26.1829</td><td>2.238</td><td>9770.0</td><td>-4.13767</td><td>22270</td><td>27.6263</td></tr><tr><th>16</th><td>ESP</td><td>3.14801</td><td>30.6209</td><td>1.23</td><td>1.85722e5</td><td>-10.8229</td><td>27360</td><td>20.6912</td></tr><tr><th>17</th><td>CHE</td><td>0.689423</td><td>62.342</td><td>1.46</td><td>12691.1</td><td>-2.39283</td><td>82620</td><td>28.3569</td></tr><tr><th>18</th><td>TUR</td><td>6.68056</td><td>28.6649</td><td>2.039</td><td>2.22204e5</td><td>1.79355</td><td>9040</td><td>31.8862</td></tr><tr><th>19</th><td>GBR</td><td>0.583199</td><td>28.3623</td><td>1.56</td><td>31900.0</td><td>-9.27041</td><td>39970</td><td>16.72</td></tr><tr><th>20</th><td>USA</td><td>1.05974</td><td>10.1629</td><td>1.6375</td><td>3.09795e6</td><td>-3.40459</td><td>64140</td><td>21.1517</td></tr></tbody></table></div>"
      ],
      "text/latex": [
       "\\begin{tabular}{r|ccccccccc}\n",
       "\t& Country & Agriculture & Exports & Fertility & Forest\\_area & GDP\\_growth & GNI\\_pc & Gross\\_capital\\_formation & \\\\\n",
       "\t\\hline\n",
       "\t& String3 & Float64 & Float64 & Float64 & Float64 & Float64 & Int64 & Float64 & \\\\\n",
       "\t\\hline\n",
       "\t1 & ARG & 5.9324 & 16.5918 & 2.233 & 285730.0 & -9.89527 & 9080 & 14.0197 & $\\dots$ \\\\\n",
       "\t2 & AUS & 2.00609 & 23.9839 & 1.581 & 1.34005e6 & -0.00383656 & 53680 & 22.2689 & $\\dots$ \\\\\n",
       "\t3 & BRA & 5.89325 & 16.7951 & 1.706 & 4.9662e6 & -3.87868 & 7800 & 15.9306 & $\\dots$ \\\\\n",
       "\t4 & CHN & 7.69864 & 18.5411 & 1.7 & 2.19978e6 & 2.2397 & 10530 & 43.3667 & $\\dots$ \\\\\n",
       "\t5 & FRA & 1.59684 & 27.8736 & 1.83 & 172530.0 & -7.85526 & 39500 & 23.8119 & $\\dots$ \\\\\n",
       "\t6 & DEU & 0.73531 & 43.4169 & 1.53 & 114190.0 & -4.56962 & 47520 & 21.149 & $\\dots$ \\\\\n",
       "\t7 & IND & 18.2289 & 18.7089 & 2.184 & 721600.0 & -6.59608 & 1910 & 27.8963 & $\\dots$ \\\\\n",
       "\t8 & IDN & 13.7025 & 17.2714 & 2.266 & 921332.0 & -2.065 & 3870 & 32.3546 & $\\dots$ \\\\\n",
       "\t9 & ITA & 2.00991 & 29.5325 & 1.24 & 95661.3 & -9.02567 & 32380 & 17.7035 & $\\dots$ \\\\\n",
       "\t10 & JPN & 1.04427 & 15.5586 & 1.34 & 249350.0 & -4.5069 & 40810 & 25.4149 & $\\dots$ \\\\\n",
       "\t11 & KOR & 1.83229 & 36.4459 & 0.837 & 62870.0 & -0.852031 & 32930 & 31.861 & $\\dots$ \\\\\n",
       "\t12 & MEX & 3.7985 & 39.603 & 2.079 & 6.56921e5 & -8.16736 & 8530 & 19.1617 & $\\dots$ \\\\\n",
       "\t13 & NLD & 1.58231 & 77.8566 & 1.55 & 3695.0 & -3.79864 & 51070 & 21.7422 & $\\dots$ \\\\\n",
       "\t14 & RUS & 4.00204 & 25.5312 & 1.505 & 8.15312e6 & -2.6833 & 10740 & 23.4841 & $\\dots$ \\\\\n",
       "\t15 & SAU & 2.54191 & 26.1829 & 2.238 & 9770.0 & -4.13767 & 22270 & 27.6263 & $\\dots$ \\\\\n",
       "\t16 & ESP & 3.14801 & 30.6209 & 1.23 & 1.85722e5 & -10.8229 & 27360 & 20.6912 & $\\dots$ \\\\\n",
       "\t17 & CHE & 0.689423 & 62.342 & 1.46 & 12691.1 & -2.39283 & 82620 & 28.3569 & $\\dots$ \\\\\n",
       "\t18 & TUR & 6.68056 & 28.6649 & 2.039 & 2.22204e5 & 1.79355 & 9040 & 31.8862 & $\\dots$ \\\\\n",
       "\t19 & GBR & 0.583199 & 28.3623 & 1.56 & 31900.0 & -9.27041 & 39970 & 16.72 & $\\dots$ \\\\\n",
       "\t20 & USA & 1.05974 & 10.1629 & 1.6375 & 3.09795e6 & -3.40459 & 64140 & 21.1517 & $\\dots$ \\\\\n",
       "\\end{tabular}\n"
      ],
      "text/plain": [
       "\u001b[1m20×18 DataFrame\u001b[0m\n",
       "\u001b[1m Row \u001b[0m│\u001b[1m Country \u001b[0m\u001b[1m Agriculture \u001b[0m\u001b[1m Exports \u001b[0m\u001b[1m Fertility \u001b[0m\u001b[1m Forest_area    \u001b[0m\u001b[1m GDP_growth   \u001b[0m\u001b[1m\u001b[0m ⋯\n",
       "\u001b[1m     \u001b[0m│\u001b[90m String3 \u001b[0m\u001b[90m Float64     \u001b[0m\u001b[90m Float64 \u001b[0m\u001b[90m Float64   \u001b[0m\u001b[90m Float64        \u001b[0m\u001b[90m Float64      \u001b[0m\u001b[90m\u001b[0m ⋯\n",
       "─────┼──────────────────────────────────────────────────────────────────────────\n",
       "   1 │ ARG         5.9324    16.5918     2.233   285730.0         -9.89527     ⋯\n",
       "   2 │ AUS         2.00609   23.9839     1.581        1.34005e6   -0.00383656\n",
       "   3 │ BRA         5.89325   16.7951     1.706        4.9662e6    -3.87868\n",
       "   4 │ CHN         7.69864   18.5411     1.7          2.19978e6    2.2397\n",
       "   5 │ FRA         1.59684   27.8736     1.83    172530.0         -7.85526     ⋯\n",
       "   6 │ DEU         0.73531   43.4169     1.53    114190.0         -4.56962\n",
       "   7 │ IND        18.2289    18.7089     2.184   721600.0         -6.59608\n",
       "   8 │ IDN        13.7025    17.2714     2.266   921332.0         -2.065\n",
       "  ⋮  │    ⋮          ⋮          ⋮         ⋮            ⋮              ⋮        ⋱\n",
       "  14 │ RUS         4.00204   25.5312     1.505        8.15312e6   -2.6833      ⋯\n",
       "  15 │ SAU         2.54191   26.1829     2.238     9770.0         -4.13767\n",
       "  16 │ ESP         3.14801   30.6209     1.23         1.85722e5  -10.8229\n",
       "  17 │ CHE         0.689423  62.342      1.46     12691.1         -2.39283\n",
       "  18 │ TUR         6.68056   28.6649     2.039        2.22204e5    1.79355     ⋯\n",
       "  19 │ GBR         0.583199  28.3623     1.56     31900.0         -9.27041\n",
       "  20 │ USA         1.05974   10.1629     1.6375       3.09795e6   -3.40459\n",
       "\u001b[36m                                                   12 columns and 5 rows omitted\u001b[0m"
      ]
     },
     "metadata": {},
     "output_type": "display_data"
    }
   ],
   "source": [
    "using CSV, DataFrames\n",
    "indicadores = CSV.read(download(\"https://franciscoariel.github.io/site/estadistica/src/indicadores.csv\"),DataFrame)"
   ]
  },
  {
   "cell_type": "markdown",
   "metadata": {},
   "source": [
    "### Descripción de los datos\n",
    "\n",
    "Se hará un análisis descriptivo de los datos\n"
   ]
  },
  {
   "cell_type": "code",
   "execution_count": 9,
   "metadata": {},
   "outputs": [
    {
     "data": {
      "text/html": [
       "<div class=\"data-frame\"><p>3 rows × 2 columns</p><table class=\"data-frame\"><thead><tr><th></th><th>variable</th><th>std</th></tr><tr><th></th><th title=\"Symbol\">Symbol</th><th title=\"Float64\">Float64</th></tr></thead><tbody><tr><th>1</th><td>Agriculture</td><td>4.59674</td></tr><tr><th>2</th><td>Exports</td><td>16.3926</td></tr><tr><th>3</th><td>Fertility</td><td>0.390139</td></tr></tbody></table></div>"
      ],
      "text/latex": [
       "\\begin{tabular}{r|cc}\n",
       "\t& variable & std\\\\\n",
       "\t\\hline\n",
       "\t& Symbol & Float64\\\\\n",
       "\t\\hline\n",
       "\t1 & Agriculture & 4.59674 \\\\\n",
       "\t2 & Exports & 16.3926 \\\\\n",
       "\t3 & Fertility & 0.390139 \\\\\n",
       "\\end{tabular}\n"
      ],
      "text/plain": [
       "\u001b[1m3×2 DataFrame\u001b[0m\n",
       "\u001b[1m Row \u001b[0m│\u001b[1m variable    \u001b[0m\u001b[1m std       \u001b[0m\n",
       "\u001b[1m     \u001b[0m│\u001b[90m Symbol      \u001b[0m\u001b[90m Float64   \u001b[0m\n",
       "─────┼────────────────────────\n",
       "   1 │ Agriculture   4.59674\n",
       "   2 │ Exports      16.3926\n",
       "   3 │ Fertility     0.390139"
      ]
     },
     "metadata": {},
     "output_type": "display_data"
    }
   ],
   "source": [
    "describe(indicadores[:,2:4],:std)"
   ]
  },
  {
   "cell_type": "code",
   "execution_count": 13,
   "metadata": {},
   "outputs": [
    {
     "data": {
      "text/plain": [
       "17×17 Matrix{Float64}:\n",
       "     21.13          -28.0223     …   32.8015        67.8757\n",
       "    -28.0223        268.717         -38.7736      1267.17\n",
       "      1.05672        -1.77471         1.9623       -25.5202\n",
       "      9.58534e5      -1.09945e7       1.38796e6     -1.48083e8\n",
       "      1.93561         0.802194       -0.10294       17.1737\n",
       " -72364.2        175351.0        …   -1.05116e5      7.07261e5\n",
       "     11.6023         -4.9198          9.11492      264.158\n",
       "    -11.7101         26.8188        -19.4026       712.778\n",
       "    -23.8684        224.111         -31.1442      1078.71\n",
       "     10.1417        -20.7248         10.3714       -89.5937\n",
       "      7.77692       -27.9515     …    7.91005     -242.248\n",
       "    -15.2213         27.0728        -26.4502       201.022\n",
       "    -44.003         440.925         -61.1038      2092.44\n",
       "     -0.38444        -5.66427        -0.434735     -57.4859\n",
       "    -33.903          38.5399        -77.1466       411.738\n",
       "     32.8015        -38.7736     …   58.9289       105.642\n",
       "     67.8757       1267.17          105.642      28950.2"
      ]
     },
     "metadata": {},
     "output_type": "display_data"
    }
   ],
   "source": [
    "using Statistics\n",
    "\n",
    "cov(Matrix(indicadores[:,2:18]))"
   ]
  },
  {
   "cell_type": "markdown",
   "metadata": {},
   "source": [
    "## Filtrado de datos"
   ]
  },
  {
   "cell_type": "markdown",
   "metadata": {},
   "source": [
    "Para hacer un filtrado de datos se usa lo siguiente:"
   ]
  },
  {
   "cell_type": "code",
   "execution_count": 17,
   "metadata": {},
   "outputs": [
    {
     "name": "stdout",
     "output_type": "stream",
     "text": [
      "\u001b[1m2×3 DataFrame\u001b[0m\n",
      "\u001b[1m Row \u001b[0m│\u001b[1m nombre   \u001b[0m\u001b[1m grupo  \u001b[0m\u001b[1m puntaje \u001b[0m\n",
      "\u001b[1m     \u001b[0m│\u001b[90m String   \u001b[0m\u001b[90m String \u001b[0m\u001b[90m Int64   \u001b[0m\n",
      "─────┼───────────────────────────\n",
      "   1 │ ANGELICA  A            10\n",
      "   2 │ BRENDA    A             9"
     ]
    }
   ],
   "source": [
    "datos2 = datos[datos.grupo .== \"A\",:]\n",
    "print(datos2)"
   ]
  },
  {
   "cell_type": "markdown",
   "metadata": {},
   "source": [
    "Para elegir más de un valor"
   ]
  },
  {
   "cell_type": "code",
   "execution_count": 18,
   "metadata": {},
   "outputs": [
    {
     "name": "stdout",
     "output_type": "stream",
     "text": [
      "\u001b[1m4×3 DataFrame\u001b[0m\n",
      "\u001b[1m Row \u001b[0m│\u001b[1m nombre   \u001b[0m\u001b[1m grupo  \u001b[0m\u001b[1m puntaje \u001b[0m\n",
      "\u001b[1m     \u001b[0m│\u001b[90m String   \u001b[0m\u001b[90m String \u001b[0m\u001b[90m Int64   \u001b[0m\n",
      "─────┼───────────────────────────\n",
      "   1 │ ANGELICA  A            10\n",
      "   2 │ BRENDA    A             9\n",
      "   3 │ FABIAN    C             9\n",
      "   4 │ MAURICIO  C             7"
     ]
    }
   ],
   "source": [
    "datos2 = datos[in([\"A\",\"C\"]).(datos.grupo) ,:]\n",
    "print(datos2)"
   ]
  },
  {
   "cell_type": "markdown",
   "metadata": {},
   "source": [
    "## Agregar nuevas variables"
   ]
  },
  {
   "cell_type": "markdown",
   "metadata": {},
   "source": [
    "Se describe como agregar nuevas variables"
   ]
  },
  {
   "cell_type": "code",
   "execution_count": 19,
   "metadata": {},
   "outputs": [
    {
     "name": "stdout",
     "output_type": "stream",
     "text": [
      "\u001b[1m6×4 DataFrame\u001b[0m\n",
      "\u001b[1m Row \u001b[0m│\u001b[1m nombre   \u001b[0m\u001b[1m grupo  \u001b[0m\u001b[1m puntaje \u001b[0m\u001b[1m nota       \u001b[0m\n",
      "\u001b[1m     \u001b[0m│\u001b[90m String   \u001b[0m\u001b[90m String \u001b[0m\u001b[90m Int64   \u001b[0m\u001b[90m String     \u001b[0m\n",
      "─────┼───────────────────────────────────────\n",
      "   1 │ ANGELICA  A            10  Excelente\n",
      "   2 │ BRENDA    A             9  Excelente\n",
      "   3 │ LILIANA   B             8  Suficiente\n",
      "   4 │ MARCO     B             8  Suficiente\n",
      "   5 │ FABIAN    C             9  Excelente\n",
      "   6 │ MAURICIO  C             7  Suficiente"
     ]
    }
   ],
   "source": [
    "using DataFrames\n",
    "datos.nota = ifelse.(datos.puntaje .< 9, \"Suficiente\", \"Excelente\")\n",
    "print(datos)"
   ]
  },
  {
   "cell_type": "markdown",
   "metadata": {},
   "source": [
    "Otra forma es usando la función `transform!`."
   ]
  },
  {
   "cell_type": "code",
   "execution_count": 20,
   "metadata": {},
   "outputs": [
    {
     "name": "stdout",
     "output_type": "stream",
     "text": [
      "\u001b[1m6×4 DataFrame\u001b[0m\n",
      "\u001b[1m Row \u001b[0m│\u001b[1m nombre   \u001b[0m\u001b[1m grupo  \u001b[0m\u001b[1m puntaje \u001b[0m\u001b[1m nota       \u001b[0m\n",
      "\u001b[1m     \u001b[0m│\u001b[90m String   \u001b[0m\u001b[90m String \u001b[0m\u001b[90m Int64   \u001b[0m\u001b[90m String     \u001b[0m\n",
      "─────┼───────────────────────────────────────\n",
      "   1 │ ANGELICA  A            10  Excelente\n",
      "   2 │ BRENDA    A             9  Excelente\n",
      "   3 │ LILIANA   B             8  Suficiente\n",
      "   4 │ MARCO     B             8  Suficiente\n",
      "   5 │ FABIAN    C             9  Excelente\n",
      "   6 │ MAURICIO  C             7  Suficiente"
     ]
    }
   ],
   "source": [
    "transform!(datos,:puntaje => (p -> ifelse.(p .< 9,\"Suficiente\",\"Excelente\")) => :nota)\n",
    "print(datos)"
   ]
  },
  {
   "cell_type": "markdown",
   "metadata": {},
   "source": [
    "## Ordenar variables\n",
    "\n",
    "Código para ordenar una base\n"
   ]
  },
  {
   "cell_type": "code",
   "execution_count": 21,
   "metadata": {},
   "outputs": [
    {
     "name": "stdout",
     "output_type": "stream",
     "text": [
      "\u001b[1m6×4 DataFrame\u001b[0m\n",
      "\u001b[1m Row \u001b[0m│\u001b[1m nombre   \u001b[0m\u001b[1m grupo  \u001b[0m\u001b[1m puntaje \u001b[0m\u001b[1m nota       \u001b[0m\n",
      "\u001b[1m     \u001b[0m│\u001b[90m String   \u001b[0m\u001b[90m String \u001b[0m\u001b[90m Int64   \u001b[0m\u001b[90m String     \u001b[0m\n",
      "─────┼───────────────────────────────────────\n",
      "   1 │ ANGELICA  A            10  Excelente\n",
      "   2 │ BRENDA    A             9  Excelente\n",
      "   3 │ FABIAN    C             9  Excelente\n",
      "   4 │ LILIANA   B             8  Suficiente\n",
      "   5 │ MARCO     B             8  Suficiente\n",
      "   6 │ MAURICIO  C             7  Suficiente"
     ]
    }
   ],
   "source": [
    "datos_ord = sort(datos, :nombre)\n",
    "print(datos_ord)"
   ]
  },
  {
   "cell_type": "markdown",
   "metadata": {},
   "source": [
    "## Datos agrupados\n",
    "\n",
    "Para formar grupos en un dataset, se puede usar este código:"
   ]
  },
  {
   "cell_type": "code",
   "execution_count": 22,
   "metadata": {},
   "outputs": [
    {
     "data": {
      "text/html": [
       "<p><b>GroupedDataFrame with 3 groups based on key: grupo</b></p><p><i>First Group (2 rows): grupo = &quot;A&quot;</i></p><div class=\"data-frame\"><table class=\"data-frame\"><thead><tr><th></th><th>nombre</th><th>grupo</th><th>puntaje</th><th>nota</th></tr><tr><th></th><th title=\"String\">String</th><th title=\"String\">String</th><th title=\"Int64\">Int64</th><th title=\"String\">String</th></tr></thead><tbody><tr><th>1</th><td>ANGELICA</td><td>A</td><td>10</td><td>Excelente</td></tr><tr><th>2</th><td>BRENDA</td><td>A</td><td>9</td><td>Excelente</td></tr></tbody></table></div><p>&vellip;</p><p><i>Last Group (2 rows): grupo = &quot;C&quot;</i></p><div class=\"data-frame\"><table class=\"data-frame\"><thead><tr><th></th><th>nombre</th><th>grupo</th><th>puntaje</th><th>nota</th></tr><tr><th></th><th title=\"String\">String</th><th title=\"String\">String</th><th title=\"Int64\">Int64</th><th title=\"String\">String</th></tr></thead><tbody><tr><th>1</th><td>FABIAN</td><td>C</td><td>9</td><td>Excelente</td></tr><tr><th>2</th><td>MAURICIO</td><td>C</td><td>7</td><td>Suficiente</td></tr></tbody></table></div>"
      ],
      "text/latex": [
       "GroupedDataFrame with 3 groups based on key: grupo\n",
       "\n",
       "First Group (2 rows): grupo = \"A\"\n",
       "\n",
       "\\begin{tabular}{r|cccc}\n",
       "\t& nombre & grupo & puntaje & nota\\\\\n",
       "\t\\hline\n",
       "\t& String & String & Int64 & String\\\\\n",
       "\t\\hline\n",
       "\t1 & ANGELICA & A & 10 & Excelente \\\\\n",
       "\t2 & BRENDA & A & 9 & Excelente \\\\\n",
       "\\end{tabular}\n",
       "\n",
       "$\\dots$\n",
       "\n",
       "Last Group (2 rows): grupo = \"C\"\n",
       "\n",
       "\\begin{tabular}{r|cccc}\n",
       "\t& nombre & grupo & puntaje & nota\\\\\n",
       "\t\\hline\n",
       "\t& String & String & Int64 & String\\\\\n",
       "\t\\hline\n",
       "\t1 & FABIAN & C & 9 & Excelente \\\\\n",
       "\t2 & MAURICIO & C & 7 & Suficiente \\\\\n",
       "\\end{tabular}\n"
      ],
      "text/plain": [
       "GroupedDataFrame with 3 groups based on key: grupo\n",
       "First Group (2 rows): grupo = \"A\"\n",
       "\u001b[1m Row \u001b[0m│\u001b[1m nombre   \u001b[0m\u001b[1m grupo  \u001b[0m\u001b[1m puntaje \u001b[0m\u001b[1m nota      \u001b[0m\n",
       "\u001b[1m     \u001b[0m│\u001b[90m String   \u001b[0m\u001b[90m String \u001b[0m\u001b[90m Int64   \u001b[0m\u001b[90m String    \u001b[0m\n",
       "─────┼──────────────────────────────────────\n",
       "   1 │ ANGELICA  A            10  Excelente\n",
       "   2 │ BRENDA    A             9  Excelente\n",
       "⋮\n",
       "Last Group (2 rows): grupo = \"C\"\n",
       "\u001b[1m Row \u001b[0m│\u001b[1m nombre   \u001b[0m\u001b[1m grupo  \u001b[0m\u001b[1m puntaje \u001b[0m\u001b[1m nota       \u001b[0m\n",
       "\u001b[1m     \u001b[0m│\u001b[90m String   \u001b[0m\u001b[90m String \u001b[0m\u001b[90m Int64   \u001b[0m\u001b[90m String     \u001b[0m\n",
       "─────┼───────────────────────────────────────\n",
       "   1 │ FABIAN    C             9  Excelente\n",
       "   2 │ MAURICIO  C             7  Suficiente"
      ]
     },
     "metadata": {},
     "output_type": "display_data"
    }
   ],
   "source": [
    "datosg = groupby(datos, :grupo)"
   ]
  },
  {
   "cell_type": "markdown",
   "metadata": {},
   "source": [
    "Tipo de datos del objeto"
   ]
  },
  {
   "cell_type": "code",
   "execution_count": 23,
   "metadata": {},
   "outputs": [
    {
     "data": {
      "text/plain": [
       "DataFrame"
      ]
     },
     "metadata": {},
     "output_type": "display_data"
    }
   ],
   "source": [
    "typeof(datos)"
   ]
  },
  {
   "cell_type": "markdown",
   "metadata": {},
   "source": [
    "descripción del dataset"
   ]
  },
  {
   "cell_type": "code",
   "execution_count": 24,
   "metadata": {},
   "outputs": [
    {
     "data": {
      "text/html": [
       "<div class=\"data-frame\"><p>4 rows × 7 columns</p><table class=\"data-frame\"><thead><tr><th></th><th>variable</th><th>mean</th><th>min</th><th>median</th><th>max</th><th>nmissing</th><th>eltype</th></tr><tr><th></th><th title=\"Symbol\">Symbol</th><th title=\"Union{Nothing, Float64}\">Union…</th><th title=\"Any\">Any</th><th title=\"Union{Nothing, Float64}\">Union…</th><th title=\"Any\">Any</th><th title=\"Int64\">Int64</th><th title=\"DataType\">DataType</th></tr></thead><tbody><tr><th>1</th><td>nombre</td><td></td><td>ANGELICA</td><td></td><td>MAURICIO</td><td>0</td><td>String</td></tr><tr><th>2</th><td>grupo</td><td></td><td>A</td><td></td><td>C</td><td>0</td><td>String</td></tr><tr><th>3</th><td>puntaje</td><td>8.5</td><td>7</td><td>8.5</td><td>10</td><td>0</td><td>Int64</td></tr><tr><th>4</th><td>nota</td><td></td><td>Excelente</td><td></td><td>Suficiente</td><td>0</td><td>String</td></tr></tbody></table></div>"
      ],
      "text/latex": [
       "\\begin{tabular}{r|ccccccc}\n",
       "\t& variable & mean & min & median & max & nmissing & eltype\\\\\n",
       "\t\\hline\n",
       "\t& Symbol & Union… & Any & Union… & Any & Int64 & DataType\\\\\n",
       "\t\\hline\n",
       "\t1 & nombre &  & ANGELICA &  & MAURICIO & 0 & String \\\\\n",
       "\t2 & grupo &  & A &  & C & 0 & String \\\\\n",
       "\t3 & puntaje & 8.5 & 7 & 8.5 & 10 & 0 & Int64 \\\\\n",
       "\t4 & nota &  & Excelente &  & Suficiente & 0 & String \\\\\n",
       "\\end{tabular}\n"
      ],
      "text/plain": [
       "\u001b[1m4×7 DataFrame\u001b[0m\n",
       "\u001b[1m Row \u001b[0m│\u001b[1m variable \u001b[0m\u001b[1m mean   \u001b[0m\u001b[1m min       \u001b[0m\u001b[1m median \u001b[0m\u001b[1m max        \u001b[0m\u001b[1m nmissing \u001b[0m\u001b[1m eltype   \u001b[0m\n",
       "\u001b[1m     \u001b[0m│\u001b[90m Symbol   \u001b[0m\u001b[90m Union… \u001b[0m\u001b[90m Any       \u001b[0m\u001b[90m Union… \u001b[0m\u001b[90m Any        \u001b[0m\u001b[90m Int64    \u001b[0m\u001b[90m DataType \u001b[0m\n",
       "─────┼─────────────────────────────────────────────────────────────────────\n",
       "   1 │ nombre   \u001b[90m        \u001b[0m ANGELICA  \u001b[90m        \u001b[0m MAURICIO           0  String\n",
       "   2 │ grupo    \u001b[90m        \u001b[0m A         \u001b[90m        \u001b[0m C                  0  String\n",
       "   3 │ puntaje   8.5     7          8.5     10                 0  Int64\n",
       "   4 │ nota     \u001b[90m        \u001b[0m Excelente \u001b[90m        \u001b[0m Suficiente         0  String"
      ]
     },
     "metadata": {},
     "output_type": "display_data"
    }
   ],
   "source": [
    "describe(datos)"
   ]
  },
  {
   "cell_type": "markdown",
   "metadata": {},
   "source": [
    "## Uniones de bases\n",
    "\n",
    "En esta sección se abordará como hace uniones de bases"
   ]
  },
  {
   "cell_type": "code",
   "execution_count": 25,
   "metadata": {},
   "outputs": [
    {
     "name": "stdout",
     "output_type": "stream",
     "text": [
      "\u001b[1m6×3 DataFrame\u001b[0m\n",
      "\u001b[1m Row \u001b[0m│\u001b[1m nombre   \u001b[0m\u001b[1m apellidos \u001b[0m\u001b[1m edad  \u001b[0m\n",
      "\u001b[1m     \u001b[0m│\u001b[90m String   \u001b[0m\u001b[90m String    \u001b[0m\u001b[90m Int64 \u001b[0m\n",
      "─────┼────────────────────────────\n",
      "   1 │ ANGELICA  SANTIAGO      20\n",
      "   2 │ BRENDA    CAMACHO       19\n",
      "   3 │ LILIANA   BUENO         18\n",
      "   4 │ MARCO     BALDERAS      18\n",
      "   5 │ FABIAN    CASTILLO      19\n",
      "   6 │ MAURICIO  ZEPEDA        27"
     ]
    }
   ],
   "source": [
    "info = DataFrame(nombre =[\"ANGELICA\",\"BRENDA\",\"LILIANA\",\"MARCO\",\"FABIAN\",\"MAURICIO\"],\n",
    "    apellidos = [\"SANTIAGO\",\"CAMACHO\",\"BUENO\",\"BALDERAS\",\"CASTILLO\",\"ZEPEDA\"],\n",
    "    edad = [20,19,18,18,19,27]);\n",
    "print(info)"
   ]
  },
  {
   "cell_type": "markdown",
   "metadata": {},
   "source": [
    "Se realizará la unión"
   ]
  },
  {
   "cell_type": "code",
   "execution_count": 26,
   "metadata": {},
   "outputs": [
    {
     "data": {
      "text/html": [
       "<div class=\"data-frame\"><p>6 rows × 6 columns</p><table class=\"data-frame\"><thead><tr><th></th><th>nombre</th><th>grupo</th><th>puntaje</th><th>nota</th><th>apellidos</th><th>edad</th></tr><tr><th></th><th title=\"String\">String</th><th title=\"String\">String</th><th title=\"Int64\">Int64</th><th title=\"String\">String</th><th title=\"String\">String</th><th title=\"Int64\">Int64</th></tr></thead><tbody><tr><th>1</th><td>ANGELICA</td><td>A</td><td>10</td><td>Excelente</td><td>SANTIAGO</td><td>20</td></tr><tr><th>2</th><td>BRENDA</td><td>A</td><td>9</td><td>Excelente</td><td>CAMACHO</td><td>19</td></tr><tr><th>3</th><td>LILIANA</td><td>B</td><td>8</td><td>Suficiente</td><td>BUENO</td><td>18</td></tr><tr><th>4</th><td>MARCO</td><td>B</td><td>8</td><td>Suficiente</td><td>BALDERAS</td><td>18</td></tr><tr><th>5</th><td>FABIAN</td><td>C</td><td>9</td><td>Excelente</td><td>CASTILLO</td><td>19</td></tr><tr><th>6</th><td>MAURICIO</td><td>C</td><td>7</td><td>Suficiente</td><td>ZEPEDA</td><td>27</td></tr></tbody></table></div>"
      ],
      "text/latex": [
       "\\begin{tabular}{r|cccccc}\n",
       "\t& nombre & grupo & puntaje & nota & apellidos & edad\\\\\n",
       "\t\\hline\n",
       "\t& String & String & Int64 & String & String & Int64\\\\\n",
       "\t\\hline\n",
       "\t1 & ANGELICA & A & 10 & Excelente & SANTIAGO & 20 \\\\\n",
       "\t2 & BRENDA & A & 9 & Excelente & CAMACHO & 19 \\\\\n",
       "\t3 & LILIANA & B & 8 & Suficiente & BUENO & 18 \\\\\n",
       "\t4 & MARCO & B & 8 & Suficiente & BALDERAS & 18 \\\\\n",
       "\t5 & FABIAN & C & 9 & Excelente & CASTILLO & 19 \\\\\n",
       "\t6 & MAURICIO & C & 7 & Suficiente & ZEPEDA & 27 \\\\\n",
       "\\end{tabular}\n"
      ],
      "text/plain": [
       "\u001b[1m6×6 DataFrame\u001b[0m\n",
       "\u001b[1m Row \u001b[0m│\u001b[1m nombre   \u001b[0m\u001b[1m grupo  \u001b[0m\u001b[1m puntaje \u001b[0m\u001b[1m nota       \u001b[0m\u001b[1m apellidos \u001b[0m\u001b[1m edad  \u001b[0m\n",
       "\u001b[1m     \u001b[0m│\u001b[90m String   \u001b[0m\u001b[90m String \u001b[0m\u001b[90m Int64   \u001b[0m\u001b[90m String     \u001b[0m\u001b[90m String    \u001b[0m\u001b[90m Int64 \u001b[0m\n",
       "─────┼─────────────────────────────────────────────────────────\n",
       "   1 │ ANGELICA  A            10  Excelente   SANTIAGO      20\n",
       "   2 │ BRENDA    A             9  Excelente   CAMACHO       19\n",
       "   3 │ LILIANA   B             8  Suficiente  BUENO         18\n",
       "   4 │ MARCO     B             8  Suficiente  BALDERAS      18\n",
       "   5 │ FABIAN    C             9  Excelente   CASTILLO      19\n",
       "   6 │ MAURICIO  C             7  Suficiente  ZEPEDA        27"
      ]
     },
     "metadata": {},
     "output_type": "display_data"
    }
   ],
   "source": [
    "datos2=innerjoin(datos,info,on=:nombre)"
   ]
  },
  {
   "cell_type": "code",
   "execution_count": 27,
   "metadata": {},
   "outputs": [
    {
     "data": {
      "text/plain": [
       "DataFrame"
      ]
     },
     "metadata": {},
     "output_type": "display_data"
    }
   ],
   "source": [
    "typeof(datos2)"
   ]
  },
  {
   "cell_type": "code",
   "execution_count": 28,
   "metadata": {},
   "outputs": [
    {
     "name": "stdout",
     "output_type": "stream",
     "text": [
      "\u001b[1m6×6 DataFrame\u001b[0m\n",
      "\u001b[1m Row \u001b[0m│\u001b[1m nombre   \u001b[0m\u001b[1m grupo  \u001b[0m\u001b[1m puntaje \u001b[0m\u001b[1m nota       \u001b[0m\u001b[1m apellidos \u001b[0m\u001b[1m edad  \u001b[0m\n",
      "\u001b[1m     \u001b[0m│\u001b[90m String   \u001b[0m\u001b[90m String \u001b[0m\u001b[90m Int64   \u001b[0m\u001b[90m String     \u001b[0m\u001b[90m String    \u001b[0m\u001b[90m Int64 \u001b[0m\n",
      "─────┼─────────────────────────────────────────────────────────\n",
      "   1 │ ANGELICA  A            10  Excelente   SANTIAGO      20\n",
      "   2 │ BRENDA    A             9  Excelente   CAMACHO       19\n",
      "   3 │ LILIANA   B             8  Suficiente  BUENO         18\n",
      "   4 │ MARCO     B             8  Suficiente  BALDERAS      18\n",
      "   5 │ FABIAN    C             9  Excelente   CASTILLO      19\n",
      "   6 │ MAURICIO  C             7  Suficiente  ZEPEDA        27"
     ]
    }
   ],
   "source": [
    "print(datos2)"
   ]
  }
 ],
 "metadata": {
  "kernelspec": {
   "display_name": "Julia 1.7.1",
   "language": "julia",
   "name": "julia-1.7"
  },
  "language_info": {
   "file_extension": ".jl",
   "mimetype": "application/julia",
   "name": "julia",
   "version": "1.7.1"
  },
  "orig_nbformat": 4
 },
 "nbformat": 4,
 "nbformat_minor": 2
}
