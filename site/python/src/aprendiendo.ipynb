{
 "cells": [
  {
   "cell_type": "markdown",
   "metadata": {},
   "source": [
    "# Aprendiendo Python"
   ]
  },
  {
   "cell_type": "markdown",
   "metadata": {},
   "source": [
    "Este código será usado para aprender python"
   ]
  },
  {
   "cell_type": "markdown",
   "metadata": {},
   "source": [
    "## Ejemplo de listas"
   ]
  },
  {
   "cell_type": "markdown",
   "metadata": {},
   "source": [
    "Aquí se mostrará como hacer listas y algunas de sus propiedades"
   ]
  },
  {
   "cell_type": "code",
   "execution_count": 6,
   "metadata": {},
   "outputs": [
    {
     "name": "stdout",
     "output_type": "stream",
     "text": [
      "['manzana', 'naranja', 'pera', 'uva']\n"
     ]
    }
   ],
   "source": [
    "mi_lista = [\"manzana\",\"naranja\",\"pera\",\"uva\"]\n",
    "print(mi_lista)"
   ]
  },
  {
   "cell_type": "markdown",
   "metadata": {},
   "source": [
    "Para acceder a los elementos se usa `[]` indicando el elemento (el primero inicia en 0)."
   ]
  },
  {
   "cell_type": "code",
   "execution_count": 2,
   "metadata": {},
   "outputs": [
    {
     "data": {
      "text/plain": [
       "'manzana'"
      ]
     },
     "execution_count": 2,
     "metadata": {},
     "output_type": "execute_result"
    }
   ],
   "source": [
    "mi_lista[0]"
   ]
  },
  {
   "cell_type": "markdown",
   "metadata": {},
   "source": [
    "Agregar un nuevo elemento"
   ]
  },
  {
   "cell_type": "code",
   "execution_count": 7,
   "metadata": {},
   "outputs": [
    {
     "data": {
      "text/plain": [
       "['manzana', 'naranja', 'pera', 'uva', 'fresa']"
      ]
     },
     "execution_count": 7,
     "metadata": {},
     "output_type": "execute_result"
    }
   ],
   "source": [
    "mi_lista.append(\"fresa\")\n",
    "mi_lista"
   ]
  },
  {
   "cell_type": "markdown",
   "metadata": {},
   "source": [
    "## Diccionarios"
   ]
  },
  {
   "cell_type": "markdown",
   "metadata": {},
   "source": [
    "Ahora trabajaremos con los diccionarios, que son parecidos a los datasets (pero no lo son)"
   ]
  },
  {
   "cell_type": "code",
   "execution_count": 1,
   "metadata": {},
   "outputs": [
    {
     "data": {
      "text/plain": [
       "{'nombre': 'Juan', 'apellido': 'Pérez', 'edad': 30}"
      ]
     },
     "execution_count": 1,
     "metadata": {},
     "output_type": "execute_result"
    }
   ],
   "source": [
    "dic = {\n",
    "  \"nombre\": \"Juan\",\n",
    "  \"apellido\": \"Pérez\",\n",
    "  \"edad\": 30\n",
    "}\n",
    "dic"
   ]
  },
  {
   "cell_type": "markdown",
   "metadata": {},
   "source": [
    "Los diccionarios pueden tener más de un valor"
   ]
  },
  {
   "cell_type": "code",
   "execution_count": 3,
   "metadata": {},
   "outputs": [
    {
     "data": {
      "text/plain": [
       "{'nombre': ['Juan', 'María', 'José'],\n",
       " 'apellido': ['Pérez', 'Martínez', 'Pérez'],\n",
       " 'edad': [30, 50, 45],\n",
       " 'genero': ['M', 'F', 'M']}"
      ]
     },
     "execution_count": 3,
     "metadata": {},
     "output_type": "execute_result"
    }
   ],
   "source": [
    "sexo = [\"M\",\"F\",\"M\"]\n",
    "dic2 = {\n",
    "  \"nombre\": [\"Juan\",\"María\",\"José\"],\n",
    "  \"apellido\": [\"Pérez\",\"Martínez\",\"Pérez\"],\n",
    "  \"edad\": [30,50,45],\n",
    "  \"genero\":sexo\n",
    "}\n",
    "dic2"
   ]
  },
  {
   "cell_type": "markdown",
   "metadata": {},
   "source": [
    "Agregando una nueva clave a un diccionario existente"
   ]
  },
  {
   "cell_type": "code",
   "execution_count": 4,
   "metadata": {},
   "outputs": [
    {
     "data": {
      "text/plain": [
       "{'nombre': ['Juan', 'María', 'José'],\n",
       " 'apellido': ['Pérez', 'Martínez', 'Pérez'],\n",
       " 'edad': [30, 50, 45],\n",
       " 'genero': ['M', 'F', 'M'],\n",
       " 'ocupacion': ['Contador', 'Gerente', 'Profesor']}"
      ]
     },
     "execution_count": 4,
     "metadata": {},
     "output_type": "execute_result"
    }
   ],
   "source": [
    "dic2[\"ocupacion\"] = [\"Contador\",\"Gerente\",\"Profesor\"]\n",
    "dic2"
   ]
  },
  {
   "cell_type": "markdown",
   "metadata": {},
   "source": [
    "## Ciclos"
   ]
  },
  {
   "cell_type": "markdown",
   "metadata": {},
   "source": [
    "Haciendo un ciclo for"
   ]
  },
  {
   "cell_type": "code",
   "execution_count": 5,
   "metadata": {},
   "outputs": [
    {
     "name": "stdout",
     "output_type": "stream",
     "text": [
      "manzana\n",
      "naranja\n",
      "pera\n",
      "uva\n",
      "papaya\n"
     ]
    }
   ],
   "source": [
    "frutas = [\"manzana\",\"naranja\",\"pera\",\"uva\",\"papaya\"]\n",
    "for x in frutas:\n",
    "  print(x)"
   ]
  },
  {
   "cell_type": "markdown",
   "metadata": {},
   "source": [
    "# Manejo de datos"
   ]
  },
  {
   "cell_type": "markdown",
   "metadata": {},
   "source": [
    "Aprendiendo manejo de datos con python"
   ]
  },
  {
   "cell_type": "code",
   "execution_count": 1,
   "metadata": {},
   "outputs": [
    {
     "name": "stdout",
     "output_type": "stream",
     "text": [
      "     nombre grupo  puntaje\n",
      "0  ANGELICA     A       10\n",
      "1    BRENDA     A        9\n",
      "2   LILIANA     B        8\n",
      "3     MARCO     B        8\n",
      "4    FABIAN     C        9\n",
      "5  MAURICIO     C        7\n"
     ]
    }
   ],
   "source": [
    "import pandas as pd\n",
    "\n",
    "nombres = [\"ANGELICA\",\"BRENDA\",\"LILIANA\",\"MARCO\",\"FABIAN\",\"MAURICIO\"]\n",
    "gpo = [\"A\",\"A\",\"B\",\"B\",\"C\",\"C\"]\n",
    "puntajes = [10,9,8,8,9,7]\n",
    "\n",
    "dic = {\"nombre\":nombres,\"grupo\":gpo,\"puntaje\":puntajes}\n",
    "\n",
    "mi_base = pd.DataFrame(dic)\n",
    "print(mi_base)"
   ]
  },
  {
   "cell_type": "markdown",
   "metadata": {},
   "source": [
    "Para saber de que tipo es el objeto `mi_base`."
   ]
  },
  {
   "cell_type": "code",
   "execution_count": 8,
   "metadata": {},
   "outputs": [
    {
     "data": {
      "text/plain": [
       "pandas.core.frame.DataFrame"
      ]
     },
     "execution_count": 8,
     "metadata": {},
     "output_type": "execute_result"
    }
   ],
   "source": [
    "type(mi_base)"
   ]
  },
  {
   "cell_type": "markdown",
   "metadata": {},
   "source": [
    "Para visualizar la base, se pueden usar los siguientes comandos"
   ]
  },
  {
   "cell_type": "code",
   "execution_count": 9,
   "metadata": {},
   "outputs": [
    {
     "data": {
      "text/plain": [
       "'c:\\\\Users\\\\Francisco\\\\FranciscoAriel.github.io\\\\docs\\\\python\\\\src'"
      ]
     },
     "execution_count": 9,
     "metadata": {},
     "output_type": "execute_result"
    }
   ],
   "source": [
    "os.getcwd()"
   ]
  },
  {
   "cell_type": "code",
   "execution_count": 1,
   "metadata": {},
   "outputs": [
    {
     "data": {
      "text/html": [
       "<div>\n",
       "<style scoped>\n",
       "    .dataframe tbody tr th:only-of-type {\n",
       "        vertical-align: middle;\n",
       "    }\n",
       "\n",
       "    .dataframe tbody tr th {\n",
       "        vertical-align: top;\n",
       "    }\n",
       "\n",
       "    .dataframe thead th {\n",
       "        text-align: right;\n",
       "    }\n",
       "</style>\n",
       "<table border=\"1\" class=\"dataframe\">\n",
       "  <thead>\n",
       "    <tr style=\"text-align: right;\">\n",
       "      <th></th>\n",
       "      <th>age</th>\n",
       "      <th>fnlwgt</th>\n",
       "      <th>education_num</th>\n",
       "      <th>capital_gain</th>\n",
       "      <th>capital_loss</th>\n",
       "      <th>hours</th>\n",
       "    </tr>\n",
       "  </thead>\n",
       "  <tbody>\n",
       "    <tr>\n",
       "      <th>count</th>\n",
       "      <td>32561.000000</td>\n",
       "      <td>3.256100e+04</td>\n",
       "      <td>32561.000000</td>\n",
       "      <td>32561.000000</td>\n",
       "      <td>32561.000000</td>\n",
       "      <td>32561.000000</td>\n",
       "    </tr>\n",
       "    <tr>\n",
       "      <th>mean</th>\n",
       "      <td>38.581647</td>\n",
       "      <td>1.897784e+05</td>\n",
       "      <td>10.080679</td>\n",
       "      <td>1077.648844</td>\n",
       "      <td>87.303830</td>\n",
       "      <td>40.437456</td>\n",
       "    </tr>\n",
       "    <tr>\n",
       "      <th>std</th>\n",
       "      <td>13.640433</td>\n",
       "      <td>1.055500e+05</td>\n",
       "      <td>2.572720</td>\n",
       "      <td>7385.292085</td>\n",
       "      <td>402.960219</td>\n",
       "      <td>12.347429</td>\n",
       "    </tr>\n",
       "    <tr>\n",
       "      <th>min</th>\n",
       "      <td>17.000000</td>\n",
       "      <td>1.228500e+04</td>\n",
       "      <td>1.000000</td>\n",
       "      <td>0.000000</td>\n",
       "      <td>0.000000</td>\n",
       "      <td>1.000000</td>\n",
       "    </tr>\n",
       "    <tr>\n",
       "      <th>25%</th>\n",
       "      <td>28.000000</td>\n",
       "      <td>1.178270e+05</td>\n",
       "      <td>9.000000</td>\n",
       "      <td>0.000000</td>\n",
       "      <td>0.000000</td>\n",
       "      <td>40.000000</td>\n",
       "    </tr>\n",
       "    <tr>\n",
       "      <th>50%</th>\n",
       "      <td>37.000000</td>\n",
       "      <td>1.783560e+05</td>\n",
       "      <td>10.000000</td>\n",
       "      <td>0.000000</td>\n",
       "      <td>0.000000</td>\n",
       "      <td>40.000000</td>\n",
       "    </tr>\n",
       "    <tr>\n",
       "      <th>75%</th>\n",
       "      <td>48.000000</td>\n",
       "      <td>2.370510e+05</td>\n",
       "      <td>12.000000</td>\n",
       "      <td>0.000000</td>\n",
       "      <td>0.000000</td>\n",
       "      <td>45.000000</td>\n",
       "    </tr>\n",
       "    <tr>\n",
       "      <th>max</th>\n",
       "      <td>90.000000</td>\n",
       "      <td>1.484705e+06</td>\n",
       "      <td>16.000000</td>\n",
       "      <td>99999.000000</td>\n",
       "      <td>4356.000000</td>\n",
       "      <td>99.000000</td>\n",
       "    </tr>\n",
       "  </tbody>\n",
       "</table>\n",
       "</div>"
      ],
      "text/plain": [
       "                age        fnlwgt  education_num  capital_gain  capital_loss  \\\n",
       "count  32561.000000  3.256100e+04   32561.000000  32561.000000  32561.000000   \n",
       "mean      38.581647  1.897784e+05      10.080679   1077.648844     87.303830   \n",
       "std       13.640433  1.055500e+05       2.572720   7385.292085    402.960219   \n",
       "min       17.000000  1.228500e+04       1.000000      0.000000      0.000000   \n",
       "25%       28.000000  1.178270e+05       9.000000      0.000000      0.000000   \n",
       "50%       37.000000  1.783560e+05      10.000000      0.000000      0.000000   \n",
       "75%       48.000000  2.370510e+05      12.000000      0.000000      0.000000   \n",
       "max       90.000000  1.484705e+06      16.000000  99999.000000   4356.000000   \n",
       "\n",
       "              hours  \n",
       "count  32561.000000  \n",
       "mean      40.437456  \n",
       "std       12.347429  \n",
       "min        1.000000  \n",
       "25%       40.000000  \n",
       "50%       40.000000  \n",
       "75%       45.000000  \n",
       "max       99.000000  "
      ]
     },
     "execution_count": 1,
     "metadata": {},
     "output_type": "execute_result"
    }
   ],
   "source": [
    "import pandas as pd\n",
    "import numpy as np\n",
    "datos = pd.read_csv(\"census.csv\")\n",
    "datos.describe()"
   ]
  },
  {
   "cell_type": "code",
   "execution_count": 3,
   "metadata": {},
   "outputs": [
    {
     "data": {
      "text/html": [
       "<div>\n",
       "<style scoped>\n",
       "    .dataframe tbody tr th:only-of-type {\n",
       "        vertical-align: middle;\n",
       "    }\n",
       "\n",
       "    .dataframe tbody tr th {\n",
       "        vertical-align: top;\n",
       "    }\n",
       "\n",
       "    .dataframe thead th {\n",
       "        text-align: right;\n",
       "    }\n",
       "</style>\n",
       "<table border=\"1\" class=\"dataframe\">\n",
       "  <thead>\n",
       "    <tr style=\"text-align: right;\">\n",
       "      <th></th>\n",
       "      <th>Agriculture</th>\n",
       "      <th>Exports</th>\n",
       "      <th>Fertility</th>\n",
       "      <th>Forest_area</th>\n",
       "      <th>GDP_growth</th>\n",
       "      <th>GNI_pc</th>\n",
       "      <th>Gross_capital_formation</th>\n",
       "      <th>High_tech_exports</th>\n",
       "      <th>Imports</th>\n",
       "      <th>Industry</th>\n",
       "      <th>Inflation</th>\n",
       "      <th>Life_expectancy</th>\n",
       "      <th>Merchandise_trade</th>\n",
       "      <th>Military_expenditure</th>\n",
       "      <th>Mobile_subs</th>\n",
       "      <th>Mortality_rate</th>\n",
       "      <th>Pop_density</th>\n",
       "    </tr>\n",
       "  </thead>\n",
       "  <tbody>\n",
       "    <tr>\n",
       "      <th>Agriculture</th>\n",
       "      <td>21.130026</td>\n",
       "      <td>-2.802233e+01</td>\n",
       "      <td>1.056721</td>\n",
       "      <td>9.585344e+05</td>\n",
       "      <td>1.935615e+00</td>\n",
       "      <td>-7.236424e+04</td>\n",
       "      <td>11.602300</td>\n",
       "      <td>-1.171009e+01</td>\n",
       "      <td>-2.386838e+01</td>\n",
       "      <td>10.141708</td>\n",
       "      <td>7.776916e+00</td>\n",
       "      <td>-1.522134e+01</td>\n",
       "      <td>-4.400299e+01</td>\n",
       "      <td>-0.384440</td>\n",
       "      <td>-3.390304e+01</td>\n",
       "      <td>3.280151e+01</td>\n",
       "      <td>6.787572e+01</td>\n",
       "    </tr>\n",
       "    <tr>\n",
       "      <th>Exports</th>\n",
       "      <td>-28.022329</td>\n",
       "      <td>2.687171e+02</td>\n",
       "      <td>-1.774714</td>\n",
       "      <td>-1.099454e+07</td>\n",
       "      <td>8.021938e-01</td>\n",
       "      <td>1.753510e+05</td>\n",
       "      <td>-4.919795</td>\n",
       "      <td>2.681876e+01</td>\n",
       "      <td>2.241105e+02</td>\n",
       "      <td>-20.724772</td>\n",
       "      <td>-2.795148e+01</td>\n",
       "      <td>2.707276e+01</td>\n",
       "      <td>4.409247e+02</td>\n",
       "      <td>-5.664270</td>\n",
       "      <td>3.853995e+01</td>\n",
       "      <td>-3.877357e+01</td>\n",
       "      <td>1.267167e+03</td>\n",
       "    </tr>\n",
       "    <tr>\n",
       "      <th>Fertility</th>\n",
       "      <td>1.056721</td>\n",
       "      <td>-1.774714e+00</td>\n",
       "      <td>0.152209</td>\n",
       "      <td>-2.851876e+04</td>\n",
       "      <td>-5.187848e-02</td>\n",
       "      <td>-4.501197e+03</td>\n",
       "      <td>0.133495</td>\n",
       "      <td>-1.731813e+00</td>\n",
       "      <td>-1.292456e+00</td>\n",
       "      <td>0.705301</td>\n",
       "      <td>1.197284e+00</td>\n",
       "      <td>-1.205276e+00</td>\n",
       "      <td>-2.469715e+00</td>\n",
       "      <td>0.124867</td>\n",
       "      <td>-3.570423e+00</td>\n",
       "      <td>1.962304e+00</td>\n",
       "      <td>-2.552016e+01</td>\n",
       "    </tr>\n",
       "    <tr>\n",
       "      <th>Forest_area</th>\n",
       "      <td>958534.438319</td>\n",
       "      <td>-1.099454e+07</td>\n",
       "      <td>-28518.760846</td>\n",
       "      <td>4.307068e+12</td>\n",
       "      <td>2.005724e+06</td>\n",
       "      <td>-1.207661e+10</td>\n",
       "      <td>-801118.145359</td>\n",
       "      <td>-1.589488e+06</td>\n",
       "      <td>-1.092529e+07</td>\n",
       "      <td>124035.868973</td>\n",
       "      <td>-1.798158e+06</td>\n",
       "      <td>-4.519830e+06</td>\n",
       "      <td>-1.817407e+07</td>\n",
       "      <td>719551.817665</td>\n",
       "      <td>8.425347e+06</td>\n",
       "      <td>1.387958e+06</td>\n",
       "      <td>-1.480833e+08</td>\n",
       "    </tr>\n",
       "    <tr>\n",
       "      <th>GDP_growth</th>\n",
       "      <td>1.935615</td>\n",
       "      <td>8.021938e-01</td>\n",
       "      <td>-0.051878</td>\n",
       "      <td>2.005724e+06</td>\n",
       "      <td>1.451926e+01</td>\n",
       "      <td>4.082476e+03</td>\n",
       "      <td>19.452031</td>\n",
       "      <td>7.745763e+00</td>\n",
       "      <td>-2.434498e-02</td>\n",
       "      <td>14.180315</td>\n",
       "      <td>-9.305744e+00</td>\n",
       "      <td>-1.128052e+00</td>\n",
       "      <td>3.692527e+00</td>\n",
       "      <td>1.221475</td>\n",
       "      <td>6.876863e+00</td>\n",
       "      <td>-1.029405e-01</td>\n",
       "      <td>1.717372e+01</td>\n",
       "    </tr>\n",
       "    <tr>\n",
       "      <th>GNI_pc</th>\n",
       "      <td>-72364.239350</td>\n",
       "      <td>1.753510e+05</td>\n",
       "      <td>-4501.197434</td>\n",
       "      <td>-1.207661e+10</td>\n",
       "      <td>4.082476e+03</td>\n",
       "      <td>5.097495e+08</td>\n",
       "      <td>-23357.371006</td>\n",
       "      <td>6.241965e+04</td>\n",
       "      <td>1.462547e+05</td>\n",
       "      <td>-61553.779046</td>\n",
       "      <td>-6.350393e+04</td>\n",
       "      <td>7.013092e+04</td>\n",
       "      <td>2.235594e+05</td>\n",
       "      <td>-3186.534795</td>\n",
       "      <td>8.362030e+04</td>\n",
       "      <td>-1.051164e+05</td>\n",
       "      <td>7.072609e+05</td>\n",
       "    </tr>\n",
       "    <tr>\n",
       "      <th>Gross_capital_formation</th>\n",
       "      <td>11.602300</td>\n",
       "      <td>-4.919795e+00</td>\n",
       "      <td>0.133495</td>\n",
       "      <td>-8.011181e+05</td>\n",
       "      <td>1.945203e+01</td>\n",
       "      <td>-2.335737e+04</td>\n",
       "      <td>49.071295</td>\n",
       "      <td>1.542983e+01</td>\n",
       "      <td>-3.204647e+00</td>\n",
       "      <td>35.395491</td>\n",
       "      <td>-2.259861e+01</td>\n",
       "      <td>-4.345144e+00</td>\n",
       "      <td>-6.547749e+00</td>\n",
       "      <td>2.132028</td>\n",
       "      <td>1.390916e+01</td>\n",
       "      <td>9.114922e+00</td>\n",
       "      <td>2.641576e+02</td>\n",
       "    </tr>\n",
       "    <tr>\n",
       "      <th>High_tech_exports</th>\n",
       "      <td>-11.710089</td>\n",
       "      <td>2.681876e+01</td>\n",
       "      <td>-1.731813</td>\n",
       "      <td>-1.589488e+06</td>\n",
       "      <td>7.745763e+00</td>\n",
       "      <td>6.241965e+04</td>\n",
       "      <td>15.429832</td>\n",
       "      <td>8.478166e+01</td>\n",
       "      <td>2.105406e+01</td>\n",
       "      <td>-4.869695</td>\n",
       "      <td>-1.688232e+01</td>\n",
       "      <td>1.633256e+01</td>\n",
       "      <td>4.744612e+01</td>\n",
       "      <td>-4.522699</td>\n",
       "      <td>9.275675e+00</td>\n",
       "      <td>-1.940258e+01</td>\n",
       "      <td>7.127779e+02</td>\n",
       "    </tr>\n",
       "    <tr>\n",
       "      <th>Imports</th>\n",
       "      <td>-23.868379</td>\n",
       "      <td>2.241105e+02</td>\n",
       "      <td>-1.292456</td>\n",
       "      <td>-1.092529e+07</td>\n",
       "      <td>-2.434498e-02</td>\n",
       "      <td>1.462547e+05</td>\n",
       "      <td>-3.204647</td>\n",
       "      <td>2.105406e+01</td>\n",
       "      <td>1.924060e+02</td>\n",
       "      <td>-21.098531</td>\n",
       "      <td>-2.479884e+01</td>\n",
       "      <td>2.337911e+01</td>\n",
       "      <td>3.719406e+02</td>\n",
       "      <td>-3.913801</td>\n",
       "      <td>9.607277e+00</td>\n",
       "      <td>-3.114416e+01</td>\n",
       "      <td>1.078708e+03</td>\n",
       "    </tr>\n",
       "    <tr>\n",
       "      <th>Industry</th>\n",
       "      <td>10.141708</td>\n",
       "      <td>-2.072477e+01</td>\n",
       "      <td>0.705301</td>\n",
       "      <td>1.240359e+05</td>\n",
       "      <td>1.418031e+01</td>\n",
       "      <td>-6.155378e+04</td>\n",
       "      <td>35.395491</td>\n",
       "      <td>-4.869695e+00</td>\n",
       "      <td>-2.109853e+01</td>\n",
       "      <td>52.588257</td>\n",
       "      <td>-1.740465e+01</td>\n",
       "      <td>-1.104085e+01</td>\n",
       "      <td>-2.638723e+01</td>\n",
       "      <td>4.362244</td>\n",
       "      <td>4.307799e+01</td>\n",
       "      <td>1.037143e+01</td>\n",
       "      <td>-8.959368e+01</td>\n",
       "    </tr>\n",
       "    <tr>\n",
       "      <th>Inflation</th>\n",
       "      <td>7.776916</td>\n",
       "      <td>-2.795148e+01</td>\n",
       "      <td>1.197284</td>\n",
       "      <td>-1.798158e+06</td>\n",
       "      <td>-9.305744e+00</td>\n",
       "      <td>-6.350393e+04</td>\n",
       "      <td>-22.598610</td>\n",
       "      <td>-1.688232e+01</td>\n",
       "      <td>-2.479884e+01</td>\n",
       "      <td>-17.404648</td>\n",
       "      <td>8.900461e+01</td>\n",
       "      <td>-4.142882e+00</td>\n",
       "      <td>-4.259805e+01</td>\n",
       "      <td>-5.904997</td>\n",
       "      <td>-3.625991e+01</td>\n",
       "      <td>7.910053e+00</td>\n",
       "      <td>-2.422477e+02</td>\n",
       "    </tr>\n",
       "    <tr>\n",
       "      <th>Life_expectancy</th>\n",
       "      <td>-15.221341</td>\n",
       "      <td>2.707276e+01</td>\n",
       "      <td>-1.205276</td>\n",
       "      <td>-4.519830e+06</td>\n",
       "      <td>-1.128052e+00</td>\n",
       "      <td>7.013092e+04</td>\n",
       "      <td>-4.345144</td>\n",
       "      <td>1.633256e+01</td>\n",
       "      <td>2.337911e+01</td>\n",
       "      <td>-11.040846</td>\n",
       "      <td>-4.142882e+00</td>\n",
       "      <td>1.951076e+01</td>\n",
       "      <td>3.938745e+01</td>\n",
       "      <td>-2.380641</td>\n",
       "      <td>2.025509e+01</td>\n",
       "      <td>-2.645022e+01</td>\n",
       "      <td>2.010215e+02</td>\n",
       "    </tr>\n",
       "    <tr>\n",
       "      <th>Merchandise_trade</th>\n",
       "      <td>-44.002990</td>\n",
       "      <td>4.409247e+02</td>\n",
       "      <td>-2.469715</td>\n",
       "      <td>-1.817407e+07</td>\n",
       "      <td>3.692527e+00</td>\n",
       "      <td>2.235594e+05</td>\n",
       "      <td>-6.547749</td>\n",
       "      <td>4.744612e+01</td>\n",
       "      <td>3.719406e+02</td>\n",
       "      <td>-26.387230</td>\n",
       "      <td>-4.259805e+01</td>\n",
       "      <td>3.938745e+01</td>\n",
       "      <td>7.703349e+02</td>\n",
       "      <td>-8.324251</td>\n",
       "      <td>4.710202e+01</td>\n",
       "      <td>-6.110378e+01</td>\n",
       "      <td>2.092444e+03</td>\n",
       "    </tr>\n",
       "    <tr>\n",
       "      <th>Military_expenditure</th>\n",
       "      <td>-0.384440</td>\n",
       "      <td>-5.664270e+00</td>\n",
       "      <td>0.124867</td>\n",
       "      <td>7.195518e+05</td>\n",
       "      <td>1.221475e+00</td>\n",
       "      <td>-3.186535e+03</td>\n",
       "      <td>2.132028</td>\n",
       "      <td>-4.522699e+00</td>\n",
       "      <td>-3.913801e+00</td>\n",
       "      <td>4.362244</td>\n",
       "      <td>-5.904997e+00</td>\n",
       "      <td>-2.380641e+00</td>\n",
       "      <td>-8.324251e+00</td>\n",
       "      <td>3.155244</td>\n",
       "      <td>2.485184e+00</td>\n",
       "      <td>-4.347351e-01</td>\n",
       "      <td>-5.748589e+01</td>\n",
       "    </tr>\n",
       "    <tr>\n",
       "      <th>Mobile_subs</th>\n",
       "      <td>-33.903041</td>\n",
       "      <td>3.853995e+01</td>\n",
       "      <td>-3.570423</td>\n",
       "      <td>8.425347e+06</td>\n",
       "      <td>6.876863e+00</td>\n",
       "      <td>8.362030e+04</td>\n",
       "      <td>13.909159</td>\n",
       "      <td>9.275675e+00</td>\n",
       "      <td>9.607277e+00</td>\n",
       "      <td>43.077990</td>\n",
       "      <td>-3.625991e+01</td>\n",
       "      <td>2.025509e+01</td>\n",
       "      <td>4.710202e+01</td>\n",
       "      <td>2.485184</td>\n",
       "      <td>3.748362e+02</td>\n",
       "      <td>-7.714664e+01</td>\n",
       "      <td>4.117383e+02</td>\n",
       "    </tr>\n",
       "    <tr>\n",
       "      <th>Mortality_rate</th>\n",
       "      <td>32.801507</td>\n",
       "      <td>-3.877357e+01</td>\n",
       "      <td>1.962304</td>\n",
       "      <td>1.387958e+06</td>\n",
       "      <td>-1.029405e-01</td>\n",
       "      <td>-1.051164e+05</td>\n",
       "      <td>9.114922</td>\n",
       "      <td>-1.940258e+01</td>\n",
       "      <td>-3.114416e+01</td>\n",
       "      <td>10.371430</td>\n",
       "      <td>7.910053e+00</td>\n",
       "      <td>-2.645022e+01</td>\n",
       "      <td>-6.110378e+01</td>\n",
       "      <td>-0.434735</td>\n",
       "      <td>-7.714664e+01</td>\n",
       "      <td>5.892892e+01</td>\n",
       "      <td>1.056419e+02</td>\n",
       "    </tr>\n",
       "    <tr>\n",
       "      <th>Pop_density</th>\n",
       "      <td>67.875718</td>\n",
       "      <td>1.267167e+03</td>\n",
       "      <td>-25.520159</td>\n",
       "      <td>-1.480833e+08</td>\n",
       "      <td>1.717372e+01</td>\n",
       "      <td>7.072609e+05</td>\n",
       "      <td>264.157554</td>\n",
       "      <td>7.127779e+02</td>\n",
       "      <td>1.078708e+03</td>\n",
       "      <td>-89.593681</td>\n",
       "      <td>-2.422477e+02</td>\n",
       "      <td>2.010215e+02</td>\n",
       "      <td>2.092444e+03</td>\n",
       "      <td>-57.485892</td>\n",
       "      <td>4.117383e+02</td>\n",
       "      <td>1.056419e+02</td>\n",
       "      <td>2.895019e+04</td>\n",
       "    </tr>\n",
       "  </tbody>\n",
       "</table>\n",
       "</div>"
      ],
      "text/plain": [
       "                           Agriculture       Exports     Fertility  \\\n",
       "Agriculture                  21.130026 -2.802233e+01      1.056721   \n",
       "Exports                     -28.022329  2.687171e+02     -1.774714   \n",
       "Fertility                     1.056721 -1.774714e+00      0.152209   \n",
       "Forest_area              958534.438319 -1.099454e+07 -28518.760846   \n",
       "GDP_growth                    1.935615  8.021938e-01     -0.051878   \n",
       "GNI_pc                   -72364.239350  1.753510e+05  -4501.197434   \n",
       "Gross_capital_formation      11.602300 -4.919795e+00      0.133495   \n",
       "High_tech_exports           -11.710089  2.681876e+01     -1.731813   \n",
       "Imports                     -23.868379  2.241105e+02     -1.292456   \n",
       "Industry                     10.141708 -2.072477e+01      0.705301   \n",
       "Inflation                     7.776916 -2.795148e+01      1.197284   \n",
       "Life_expectancy             -15.221341  2.707276e+01     -1.205276   \n",
       "Merchandise_trade           -44.002990  4.409247e+02     -2.469715   \n",
       "Military_expenditure         -0.384440 -5.664270e+00      0.124867   \n",
       "Mobile_subs                 -33.903041  3.853995e+01     -3.570423   \n",
       "Mortality_rate               32.801507 -3.877357e+01      1.962304   \n",
       "Pop_density                  67.875718  1.267167e+03    -25.520159   \n",
       "\n",
       "                          Forest_area    GDP_growth        GNI_pc  \\\n",
       "Agriculture              9.585344e+05  1.935615e+00 -7.236424e+04   \n",
       "Exports                 -1.099454e+07  8.021938e-01  1.753510e+05   \n",
       "Fertility               -2.851876e+04 -5.187848e-02 -4.501197e+03   \n",
       "Forest_area              4.307068e+12  2.005724e+06 -1.207661e+10   \n",
       "GDP_growth               2.005724e+06  1.451926e+01  4.082476e+03   \n",
       "GNI_pc                  -1.207661e+10  4.082476e+03  5.097495e+08   \n",
       "Gross_capital_formation -8.011181e+05  1.945203e+01 -2.335737e+04   \n",
       "High_tech_exports       -1.589488e+06  7.745763e+00  6.241965e+04   \n",
       "Imports                 -1.092529e+07 -2.434498e-02  1.462547e+05   \n",
       "Industry                 1.240359e+05  1.418031e+01 -6.155378e+04   \n",
       "Inflation               -1.798158e+06 -9.305744e+00 -6.350393e+04   \n",
       "Life_expectancy         -4.519830e+06 -1.128052e+00  7.013092e+04   \n",
       "Merchandise_trade       -1.817407e+07  3.692527e+00  2.235594e+05   \n",
       "Military_expenditure     7.195518e+05  1.221475e+00 -3.186535e+03   \n",
       "Mobile_subs              8.425347e+06  6.876863e+00  8.362030e+04   \n",
       "Mortality_rate           1.387958e+06 -1.029405e-01 -1.051164e+05   \n",
       "Pop_density             -1.480833e+08  1.717372e+01  7.072609e+05   \n",
       "\n",
       "                         Gross_capital_formation  High_tech_exports  \\\n",
       "Agriculture                            11.602300      -1.171009e+01   \n",
       "Exports                                -4.919795       2.681876e+01   \n",
       "Fertility                               0.133495      -1.731813e+00   \n",
       "Forest_area                       -801118.145359      -1.589488e+06   \n",
       "GDP_growth                             19.452031       7.745763e+00   \n",
       "GNI_pc                             -23357.371006       6.241965e+04   \n",
       "Gross_capital_formation                49.071295       1.542983e+01   \n",
       "High_tech_exports                      15.429832       8.478166e+01   \n",
       "Imports                                -3.204647       2.105406e+01   \n",
       "Industry                               35.395491      -4.869695e+00   \n",
       "Inflation                             -22.598610      -1.688232e+01   \n",
       "Life_expectancy                        -4.345144       1.633256e+01   \n",
       "Merchandise_trade                      -6.547749       4.744612e+01   \n",
       "Military_expenditure                    2.132028      -4.522699e+00   \n",
       "Mobile_subs                            13.909159       9.275675e+00   \n",
       "Mortality_rate                          9.114922      -1.940258e+01   \n",
       "Pop_density                           264.157554       7.127779e+02   \n",
       "\n",
       "                              Imports       Industry     Inflation  \\\n",
       "Agriculture             -2.386838e+01      10.141708  7.776916e+00   \n",
       "Exports                  2.241105e+02     -20.724772 -2.795148e+01   \n",
       "Fertility               -1.292456e+00       0.705301  1.197284e+00   \n",
       "Forest_area             -1.092529e+07  124035.868973 -1.798158e+06   \n",
       "GDP_growth              -2.434498e-02      14.180315 -9.305744e+00   \n",
       "GNI_pc                   1.462547e+05  -61553.779046 -6.350393e+04   \n",
       "Gross_capital_formation -3.204647e+00      35.395491 -2.259861e+01   \n",
       "High_tech_exports        2.105406e+01      -4.869695 -1.688232e+01   \n",
       "Imports                  1.924060e+02     -21.098531 -2.479884e+01   \n",
       "Industry                -2.109853e+01      52.588257 -1.740465e+01   \n",
       "Inflation               -2.479884e+01     -17.404648  8.900461e+01   \n",
       "Life_expectancy          2.337911e+01     -11.040846 -4.142882e+00   \n",
       "Merchandise_trade        3.719406e+02     -26.387230 -4.259805e+01   \n",
       "Military_expenditure    -3.913801e+00       4.362244 -5.904997e+00   \n",
       "Mobile_subs              9.607277e+00      43.077990 -3.625991e+01   \n",
       "Mortality_rate          -3.114416e+01      10.371430  7.910053e+00   \n",
       "Pop_density              1.078708e+03     -89.593681 -2.422477e+02   \n",
       "\n",
       "                         Life_expectancy  Merchandise_trade  \\\n",
       "Agriculture                -1.522134e+01      -4.400299e+01   \n",
       "Exports                     2.707276e+01       4.409247e+02   \n",
       "Fertility                  -1.205276e+00      -2.469715e+00   \n",
       "Forest_area                -4.519830e+06      -1.817407e+07   \n",
       "GDP_growth                 -1.128052e+00       3.692527e+00   \n",
       "GNI_pc                      7.013092e+04       2.235594e+05   \n",
       "Gross_capital_formation    -4.345144e+00      -6.547749e+00   \n",
       "High_tech_exports           1.633256e+01       4.744612e+01   \n",
       "Imports                     2.337911e+01       3.719406e+02   \n",
       "Industry                   -1.104085e+01      -2.638723e+01   \n",
       "Inflation                  -4.142882e+00      -4.259805e+01   \n",
       "Life_expectancy             1.951076e+01       3.938745e+01   \n",
       "Merchandise_trade           3.938745e+01       7.703349e+02   \n",
       "Military_expenditure       -2.380641e+00      -8.324251e+00   \n",
       "Mobile_subs                 2.025509e+01       4.710202e+01   \n",
       "Mortality_rate             -2.645022e+01      -6.110378e+01   \n",
       "Pop_density                 2.010215e+02       2.092444e+03   \n",
       "\n",
       "                         Military_expenditure   Mobile_subs  Mortality_rate  \\\n",
       "Agriculture                         -0.384440 -3.390304e+01    3.280151e+01   \n",
       "Exports                             -5.664270  3.853995e+01   -3.877357e+01   \n",
       "Fertility                            0.124867 -3.570423e+00    1.962304e+00   \n",
       "Forest_area                     719551.817665  8.425347e+06    1.387958e+06   \n",
       "GDP_growth                           1.221475  6.876863e+00   -1.029405e-01   \n",
       "GNI_pc                           -3186.534795  8.362030e+04   -1.051164e+05   \n",
       "Gross_capital_formation              2.132028  1.390916e+01    9.114922e+00   \n",
       "High_tech_exports                   -4.522699  9.275675e+00   -1.940258e+01   \n",
       "Imports                             -3.913801  9.607277e+00   -3.114416e+01   \n",
       "Industry                             4.362244  4.307799e+01    1.037143e+01   \n",
       "Inflation                           -5.904997 -3.625991e+01    7.910053e+00   \n",
       "Life_expectancy                     -2.380641  2.025509e+01   -2.645022e+01   \n",
       "Merchandise_trade                   -8.324251  4.710202e+01   -6.110378e+01   \n",
       "Military_expenditure                 3.155244  2.485184e+00   -4.347351e-01   \n",
       "Mobile_subs                          2.485184  3.748362e+02   -7.714664e+01   \n",
       "Mortality_rate                      -0.434735 -7.714664e+01    5.892892e+01   \n",
       "Pop_density                        -57.485892  4.117383e+02    1.056419e+02   \n",
       "\n",
       "                          Pop_density  \n",
       "Agriculture              6.787572e+01  \n",
       "Exports                  1.267167e+03  \n",
       "Fertility               -2.552016e+01  \n",
       "Forest_area             -1.480833e+08  \n",
       "GDP_growth               1.717372e+01  \n",
       "GNI_pc                   7.072609e+05  \n",
       "Gross_capital_formation  2.641576e+02  \n",
       "High_tech_exports        7.127779e+02  \n",
       "Imports                  1.078708e+03  \n",
       "Industry                -8.959368e+01  \n",
       "Inflation               -2.422477e+02  \n",
       "Life_expectancy          2.010215e+02  \n",
       "Merchandise_trade        2.092444e+03  \n",
       "Military_expenditure    -5.748589e+01  \n",
       "Mobile_subs              4.117383e+02  \n",
       "Mortality_rate           1.056419e+02  \n",
       "Pop_density              2.895019e+04  "
      ]
     },
     "execution_count": 3,
     "metadata": {},
     "output_type": "execute_result"
    }
   ],
   "source": [
    "indicadores=pd.read_csv(\"https://franciscoariel.github.io/site/estadistica/src/indicadores.csv\")\n",
    "indicadores.cov()"
   ]
  },
  {
   "cell_type": "markdown",
   "metadata": {},
   "source": [
    "Primeros y últimos elementos del dataframe"
   ]
  },
  {
   "cell_type": "code",
   "execution_count": 10,
   "metadata": {},
   "outputs": [
    {
     "data": {
      "text/html": [
       "<div>\n",
       "<style scoped>\n",
       "    .dataframe tbody tr th:only-of-type {\n",
       "        vertical-align: middle;\n",
       "    }\n",
       "\n",
       "    .dataframe tbody tr th {\n",
       "        vertical-align: top;\n",
       "    }\n",
       "\n",
       "    .dataframe thead th {\n",
       "        text-align: right;\n",
       "    }\n",
       "</style>\n",
       "<table border=\"1\" class=\"dataframe\">\n",
       "  <thead>\n",
       "    <tr style=\"text-align: right;\">\n",
       "      <th></th>\n",
       "      <th>age</th>\n",
       "      <th>workclass</th>\n",
       "      <th>fnlwgt</th>\n",
       "      <th>education</th>\n",
       "      <th>education_num</th>\n",
       "      <th>marital_status</th>\n",
       "      <th>occupation</th>\n",
       "      <th>relationship</th>\n",
       "      <th>race</th>\n",
       "      <th>sex</th>\n",
       "      <th>capital_gain</th>\n",
       "      <th>capital_loss</th>\n",
       "      <th>hours</th>\n",
       "      <th>native_country</th>\n",
       "      <th>income</th>\n",
       "    </tr>\n",
       "  </thead>\n",
       "  <tbody>\n",
       "    <tr>\n",
       "      <th>0</th>\n",
       "      <td>39</td>\n",
       "      <td>State-gov</td>\n",
       "      <td>77516</td>\n",
       "      <td>Bachelors</td>\n",
       "      <td>13</td>\n",
       "      <td>Never-married</td>\n",
       "      <td>Adm-clerical</td>\n",
       "      <td>Not-in-family</td>\n",
       "      <td>White</td>\n",
       "      <td>Male</td>\n",
       "      <td>2174</td>\n",
       "      <td>0</td>\n",
       "      <td>40</td>\n",
       "      <td>United-States</td>\n",
       "      <td>&lt;=50K</td>\n",
       "    </tr>\n",
       "    <tr>\n",
       "      <th>1</th>\n",
       "      <td>50</td>\n",
       "      <td>Self-emp-not-inc</td>\n",
       "      <td>83311</td>\n",
       "      <td>Bachelors</td>\n",
       "      <td>13</td>\n",
       "      <td>Married-civ-spouse</td>\n",
       "      <td>Exec-managerial</td>\n",
       "      <td>Husband</td>\n",
       "      <td>White</td>\n",
       "      <td>Male</td>\n",
       "      <td>0</td>\n",
       "      <td>0</td>\n",
       "      <td>13</td>\n",
       "      <td>United-States</td>\n",
       "      <td>&lt;=50K</td>\n",
       "    </tr>\n",
       "    <tr>\n",
       "      <th>2</th>\n",
       "      <td>38</td>\n",
       "      <td>Private</td>\n",
       "      <td>215646</td>\n",
       "      <td>HS-grad</td>\n",
       "      <td>9</td>\n",
       "      <td>Divorced</td>\n",
       "      <td>Handlers-cleaners</td>\n",
       "      <td>Not-in-family</td>\n",
       "      <td>White</td>\n",
       "      <td>Male</td>\n",
       "      <td>0</td>\n",
       "      <td>0</td>\n",
       "      <td>40</td>\n",
       "      <td>United-States</td>\n",
       "      <td>&lt;=50K</td>\n",
       "    </tr>\n",
       "    <tr>\n",
       "      <th>3</th>\n",
       "      <td>53</td>\n",
       "      <td>Private</td>\n",
       "      <td>234721</td>\n",
       "      <td>11th</td>\n",
       "      <td>7</td>\n",
       "      <td>Married-civ-spouse</td>\n",
       "      <td>Handlers-cleaners</td>\n",
       "      <td>Husband</td>\n",
       "      <td>Black</td>\n",
       "      <td>Male</td>\n",
       "      <td>0</td>\n",
       "      <td>0</td>\n",
       "      <td>40</td>\n",
       "      <td>United-States</td>\n",
       "      <td>&lt;=50K</td>\n",
       "    </tr>\n",
       "    <tr>\n",
       "      <th>4</th>\n",
       "      <td>28</td>\n",
       "      <td>Private</td>\n",
       "      <td>338409</td>\n",
       "      <td>Bachelors</td>\n",
       "      <td>13</td>\n",
       "      <td>Married-civ-spouse</td>\n",
       "      <td>Prof-specialty</td>\n",
       "      <td>Wife</td>\n",
       "      <td>Black</td>\n",
       "      <td>Female</td>\n",
       "      <td>0</td>\n",
       "      <td>0</td>\n",
       "      <td>40</td>\n",
       "      <td>Cuba</td>\n",
       "      <td>&lt;=50K</td>\n",
       "    </tr>\n",
       "  </tbody>\n",
       "</table>\n",
       "</div>"
      ],
      "text/plain": [
       "   age          workclass  fnlwgt   education  education_num  \\\n",
       "0   39          State-gov   77516   Bachelors             13   \n",
       "1   50   Self-emp-not-inc   83311   Bachelors             13   \n",
       "2   38            Private  215646     HS-grad              9   \n",
       "3   53            Private  234721        11th              7   \n",
       "4   28            Private  338409   Bachelors             13   \n",
       "\n",
       "        marital_status          occupation    relationship    race      sex  \\\n",
       "0        Never-married        Adm-clerical   Not-in-family   White     Male   \n",
       "1   Married-civ-spouse     Exec-managerial         Husband   White     Male   \n",
       "2             Divorced   Handlers-cleaners   Not-in-family   White     Male   \n",
       "3   Married-civ-spouse   Handlers-cleaners         Husband   Black     Male   \n",
       "4   Married-civ-spouse      Prof-specialty            Wife   Black   Female   \n",
       "\n",
       "   capital_gain  capital_loss  hours  native_country  income  \n",
       "0          2174             0     40   United-States   <=50K  \n",
       "1             0             0     13   United-States   <=50K  \n",
       "2             0             0     40   United-States   <=50K  \n",
       "3             0             0     40   United-States   <=50K  \n",
       "4             0             0     40            Cuba   <=50K  "
      ]
     },
     "execution_count": 10,
     "metadata": {},
     "output_type": "execute_result"
    }
   ],
   "source": [
    "datos.head(n=5)"
   ]
  },
  {
   "cell_type": "markdown",
   "metadata": {},
   "source": [
    "últimos 5"
   ]
  },
  {
   "cell_type": "code",
   "execution_count": 11,
   "metadata": {},
   "outputs": [
    {
     "data": {
      "text/html": [
       "<div>\n",
       "<style scoped>\n",
       "    .dataframe tbody tr th:only-of-type {\n",
       "        vertical-align: middle;\n",
       "    }\n",
       "\n",
       "    .dataframe tbody tr th {\n",
       "        vertical-align: top;\n",
       "    }\n",
       "\n",
       "    .dataframe thead th {\n",
       "        text-align: right;\n",
       "    }\n",
       "</style>\n",
       "<table border=\"1\" class=\"dataframe\">\n",
       "  <thead>\n",
       "    <tr style=\"text-align: right;\">\n",
       "      <th></th>\n",
       "      <th>age</th>\n",
       "      <th>workclass</th>\n",
       "      <th>fnlwgt</th>\n",
       "      <th>education</th>\n",
       "      <th>education_num</th>\n",
       "      <th>marital_status</th>\n",
       "      <th>occupation</th>\n",
       "      <th>relationship</th>\n",
       "      <th>race</th>\n",
       "      <th>sex</th>\n",
       "      <th>capital_gain</th>\n",
       "      <th>capital_loss</th>\n",
       "      <th>hours</th>\n",
       "      <th>native_country</th>\n",
       "      <th>income</th>\n",
       "    </tr>\n",
       "  </thead>\n",
       "  <tbody>\n",
       "    <tr>\n",
       "      <th>32556</th>\n",
       "      <td>27</td>\n",
       "      <td>Private</td>\n",
       "      <td>257302</td>\n",
       "      <td>Assoc-acdm</td>\n",
       "      <td>12</td>\n",
       "      <td>Married-civ-spouse</td>\n",
       "      <td>Tech-support</td>\n",
       "      <td>Wife</td>\n",
       "      <td>White</td>\n",
       "      <td>Female</td>\n",
       "      <td>0</td>\n",
       "      <td>0</td>\n",
       "      <td>38</td>\n",
       "      <td>United-States</td>\n",
       "      <td>&lt;=50K</td>\n",
       "    </tr>\n",
       "    <tr>\n",
       "      <th>32557</th>\n",
       "      <td>40</td>\n",
       "      <td>Private</td>\n",
       "      <td>154374</td>\n",
       "      <td>HS-grad</td>\n",
       "      <td>9</td>\n",
       "      <td>Married-civ-spouse</td>\n",
       "      <td>Machine-op-inspct</td>\n",
       "      <td>Husband</td>\n",
       "      <td>White</td>\n",
       "      <td>Male</td>\n",
       "      <td>0</td>\n",
       "      <td>0</td>\n",
       "      <td>40</td>\n",
       "      <td>United-States</td>\n",
       "      <td>&gt;50K</td>\n",
       "    </tr>\n",
       "    <tr>\n",
       "      <th>32558</th>\n",
       "      <td>58</td>\n",
       "      <td>Private</td>\n",
       "      <td>151910</td>\n",
       "      <td>HS-grad</td>\n",
       "      <td>9</td>\n",
       "      <td>Widowed</td>\n",
       "      <td>Adm-clerical</td>\n",
       "      <td>Unmarried</td>\n",
       "      <td>White</td>\n",
       "      <td>Female</td>\n",
       "      <td>0</td>\n",
       "      <td>0</td>\n",
       "      <td>40</td>\n",
       "      <td>United-States</td>\n",
       "      <td>&lt;=50K</td>\n",
       "    </tr>\n",
       "    <tr>\n",
       "      <th>32559</th>\n",
       "      <td>22</td>\n",
       "      <td>Private</td>\n",
       "      <td>201490</td>\n",
       "      <td>HS-grad</td>\n",
       "      <td>9</td>\n",
       "      <td>Never-married</td>\n",
       "      <td>Adm-clerical</td>\n",
       "      <td>Own-child</td>\n",
       "      <td>White</td>\n",
       "      <td>Male</td>\n",
       "      <td>0</td>\n",
       "      <td>0</td>\n",
       "      <td>20</td>\n",
       "      <td>United-States</td>\n",
       "      <td>&lt;=50K</td>\n",
       "    </tr>\n",
       "    <tr>\n",
       "      <th>32560</th>\n",
       "      <td>52</td>\n",
       "      <td>Self-emp-inc</td>\n",
       "      <td>287927</td>\n",
       "      <td>HS-grad</td>\n",
       "      <td>9</td>\n",
       "      <td>Married-civ-spouse</td>\n",
       "      <td>Exec-managerial</td>\n",
       "      <td>Wife</td>\n",
       "      <td>White</td>\n",
       "      <td>Female</td>\n",
       "      <td>15024</td>\n",
       "      <td>0</td>\n",
       "      <td>40</td>\n",
       "      <td>United-States</td>\n",
       "      <td>&gt;50K</td>\n",
       "    </tr>\n",
       "  </tbody>\n",
       "</table>\n",
       "</div>"
      ],
      "text/plain": [
       "       age      workclass  fnlwgt    education  education_num  \\\n",
       "32556   27        Private  257302   Assoc-acdm             12   \n",
       "32557   40        Private  154374      HS-grad              9   \n",
       "32558   58        Private  151910      HS-grad              9   \n",
       "32559   22        Private  201490      HS-grad              9   \n",
       "32560   52   Self-emp-inc  287927      HS-grad              9   \n",
       "\n",
       "            marital_status          occupation relationship    race      sex  \\\n",
       "32556   Married-civ-spouse        Tech-support         Wife   White   Female   \n",
       "32557   Married-civ-spouse   Machine-op-inspct      Husband   White     Male   \n",
       "32558              Widowed        Adm-clerical    Unmarried   White   Female   \n",
       "32559        Never-married        Adm-clerical    Own-child   White     Male   \n",
       "32560   Married-civ-spouse     Exec-managerial         Wife   White   Female   \n",
       "\n",
       "       capital_gain  capital_loss  hours  native_country  income  \n",
       "32556             0             0     38   United-States   <=50K  \n",
       "32557             0             0     40   United-States    >50K  \n",
       "32558             0             0     40   United-States   <=50K  \n",
       "32559             0             0     20   United-States   <=50K  \n",
       "32560         15024             0     40   United-States    >50K  "
      ]
     },
     "execution_count": 11,
     "metadata": {},
     "output_type": "execute_result"
    }
   ],
   "source": [
    "datos.tail(n=5)"
   ]
  },
  {
   "cell_type": "markdown",
   "metadata": {},
   "source": [
    "para acceder a los elementos, se usa el método `iloc`"
   ]
  },
  {
   "cell_type": "code",
   "execution_count": 9,
   "metadata": {},
   "outputs": [
    {
     "name": "stdout",
     "output_type": "stream",
     "text": [
      "     nombre grupo  puntaje\n",
      "0  ANGELICA     A       10\n",
      "1    BRENDA     A        9\n"
     ]
    }
   ],
   "source": [
    "filtro = mi_base.query('grupo == \"A\"')\n",
    "print(filtro)"
   ]
  },
  {
   "cell_type": "markdown",
   "metadata": {},
   "source": [
    "## Ordenando una base"
   ]
  },
  {
   "cell_type": "markdown",
   "metadata": {},
   "source": [
    "Use el método `sort` para ordenar una base"
   ]
  },
  {
   "cell_type": "code",
   "execution_count": 8,
   "metadata": {},
   "outputs": [
    {
     "name": "stdout",
     "output_type": "stream",
     "text": [
      "     nombre grupo  puntaje\n",
      "0  ANGELICA     A       10\n",
      "1    BRENDA     A        9\n",
      "4    FABIAN     C        9\n",
      "2   LILIANA     B        8\n",
      "3     MARCO     B        8\n",
      "5  MAURICIO     C        7\n"
     ]
    }
   ],
   "source": [
    "datos_ord = mi_base.sort_values(by=[\"nombre\"])\n",
    "print(datos_ord)"
   ]
  },
  {
   "cell_type": "markdown",
   "metadata": {},
   "source": [
    "## Datos agrupados\n",
    "\n",
    "Para crear datos agrupados se usa el siguiente método:"
   ]
  },
  {
   "cell_type": "code",
   "execution_count": 10,
   "metadata": {},
   "outputs": [
    {
     "data": {
      "text/plain": [
       "<pandas.core.groupby.generic.DataFrameGroupBy object at 0x00000180B0D90D90>"
      ]
     },
     "execution_count": 10,
     "metadata": {},
     "output_type": "execute_result"
    }
   ],
   "source": [
    "mi_base_agrupada = mi_base.groupby(by=[\"grupo\"])\n",
    "mi_base_agrupada\n"
   ]
  },
  {
   "cell_type": "code",
   "execution_count": 11,
   "metadata": {},
   "outputs": [
    {
     "data": {
      "text/html": [
       "<div>\n",
       "<style scoped>\n",
       "    .dataframe tbody tr th:only-of-type {\n",
       "        vertical-align: middle;\n",
       "    }\n",
       "\n",
       "    .dataframe tbody tr th {\n",
       "        vertical-align: top;\n",
       "    }\n",
       "\n",
       "    .dataframe thead tr th {\n",
       "        text-align: left;\n",
       "    }\n",
       "\n",
       "    .dataframe thead tr:last-of-type th {\n",
       "        text-align: right;\n",
       "    }\n",
       "</style>\n",
       "<table border=\"1\" class=\"dataframe\">\n",
       "  <thead>\n",
       "    <tr>\n",
       "      <th></th>\n",
       "      <th>puntaje</th>\n",
       "    </tr>\n",
       "    <tr>\n",
       "      <th></th>\n",
       "      <th>mean</th>\n",
       "    </tr>\n",
       "    <tr>\n",
       "      <th>grupo</th>\n",
       "      <th></th>\n",
       "    </tr>\n",
       "  </thead>\n",
       "  <tbody>\n",
       "    <tr>\n",
       "      <th>A</th>\n",
       "      <td>9.5</td>\n",
       "    </tr>\n",
       "    <tr>\n",
       "      <th>B</th>\n",
       "      <td>8.0</td>\n",
       "    </tr>\n",
       "    <tr>\n",
       "      <th>C</th>\n",
       "      <td>8.0</td>\n",
       "    </tr>\n",
       "  </tbody>\n",
       "</table>\n",
       "</div>"
      ],
      "text/plain": [
       "      puntaje\n",
       "         mean\n",
       "grupo        \n",
       "A         9.5\n",
       "B         8.0\n",
       "C         8.0"
      ]
     },
     "execution_count": 11,
     "metadata": {},
     "output_type": "execute_result"
    }
   ],
   "source": [
    "mi_base_agrupada.aggregate([\"mean\"])"
   ]
  },
  {
   "cell_type": "markdown",
   "metadata": {},
   "source": [
    "## Filtrado de datos\n",
    "\n",
    "Use el método `where()` para filtrar los datos"
   ]
  },
  {
   "cell_type": "code",
   "execution_count": 4,
   "metadata": {},
   "outputs": [
    {
     "name": "stdout",
     "output_type": "stream",
     "text": [
      "0     True\n",
      "1     True\n",
      "2    False\n",
      "3    False\n",
      "4    False\n",
      "5    False\n",
      "Name: grupo, dtype: bool\n"
     ]
    }
   ],
   "source": [
    "indices = mi_base[\"grupo\"] == \"A\"\n",
    "#filtrados = mi_base.iloc[indices,]\n",
    "print(indices)"
   ]
  },
  {
   "cell_type": "markdown",
   "metadata": {},
   "source": [
    "## Uniones de bases\n",
    "\n",
    "En pandas, se puede usar el método `merge()` para unir dos bases"
   ]
  },
  {
   "cell_type": "code",
   "execution_count": 2,
   "metadata": {},
   "outputs": [
    {
     "name": "stdout",
     "output_type": "stream",
     "text": [
      "     nombre sexo  edad\n",
      "0  ANGELICA    F    19\n",
      "1    BRENDA    F    29\n",
      "2   LILIANA    F    28\n",
      "3     MARCO    M    30\n",
      "4    FABIAN    M    29\n",
      "5  MAURICIO    M    30\n"
     ]
    }
   ],
   "source": [
    "nombres = [\"ANGELICA\",\"BRENDA\",\"LILIANA\",\"MARCO\",\"FABIAN\",\"MAURICIO\"]\n",
    "sexo = [\"F\",\"F\",\"F\",\"M\",\"M\",\"M\"]\n",
    "edad = [19,29,28,30,29,30]\n",
    "\n",
    "dic2 = {\"nombre\":nombres,\"sexo\":sexo,\"edad\":edad}\n",
    "\n",
    "mi_base2 = pd.DataFrame(dic2)\n",
    "print(mi_base2)"
   ]
  },
  {
   "cell_type": "code",
   "execution_count": 4,
   "metadata": {},
   "outputs": [
    {
     "name": "stdout",
     "output_type": "stream",
     "text": [
      "     nombre grupo  puntaje sexo  edad\n",
      "0  ANGELICA     A       10    F    19\n",
      "1    BRENDA     A        9    F    29\n",
      "2   LILIANA     B        8    F    28\n",
      "3     MARCO     B        8    M    30\n",
      "4    FABIAN     C        9    M    29\n",
      "5  MAURICIO     C        7    M    30\n"
     ]
    }
   ],
   "source": [
    "base_union = mi_base.merge(mi_base2,on=[\"nombre\"])\n",
    "print(base_union)"
   ]
  },
  {
   "cell_type": "markdown",
   "metadata": {},
   "source": [
    "## Matrices y vectores\n",
    "\n",
    "Aquí se mostrará como usar matrices y vectores."
   ]
  },
  {
   "cell_type": "code",
   "execution_count": 75,
   "metadata": {},
   "outputs": [
    {
     "name": "stdout",
     "output_type": "stream",
     "text": [
      "[[ 9. -2.]\n",
      " [-2.  6.]]\n"
     ]
    }
   ],
   "source": [
    "import numpy as np\n",
    "from numpy.linalg import eig\n",
    "A=[[9,-2],[-2,6]]\n",
    "dim=(2,2)\n",
    "jj=[0,1]\n",
    "A2=np.zeros(dim)\n",
    "lj,ej=eig(A)\n",
    "lj=np.matrix(lj)\n",
    "ej=np.matrix(ej.transpose())\n",
    "for j in jj:\n",
    "    A2=A2+lj[0,j]*ej[j].transpose()@ej[j]\n",
    "\n",
    "print(A2)"
   ]
  },
  {
   "cell_type": "code",
   "execution_count": 77,
   "metadata": {},
   "outputs": [
    {
     "data": {
      "text/plain": [
       "matrix([[ 0.89442719, -0.4472136 ]])"
      ]
     },
     "execution_count": 77,
     "metadata": {},
     "output_type": "execute_result"
    }
   ],
   "source": [
    "ej[0]"
   ]
  }
 ],
 "metadata": {
  "kernelspec": {
   "display_name": "Python 3.9.7 ('base')",
   "language": "python",
   "name": "python3"
  },
  "language_info": {
   "codemirror_mode": {
    "name": "ipython",
    "version": 3
   },
   "file_extension": ".py",
   "mimetype": "text/x-python",
   "name": "python",
   "nbconvert_exporter": "python",
   "pygments_lexer": "ipython3",
   "version": "3.9.7"
  },
  "orig_nbformat": 4,
  "vscode": {
   "interpreter": {
    "hash": "ef0d3eaac19d23329443f0a69b97848fe637555c69428bc3ab1c9815d9c7cd6d"
   }
  }
 },
 "nbformat": 4,
 "nbformat_minor": 2
}
